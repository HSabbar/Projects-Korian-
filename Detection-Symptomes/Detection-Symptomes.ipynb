{
 "cells": [
  {
   "cell_type": "code",
   "execution_count": 1,
   "metadata": {},
   "outputs": [],
   "source": [
    "from typing import Pattern\n",
    "import pandas as pd \n",
    "import numpy as np\n",
    "import nltk\n",
    "import csv\n",
    "import re\n",
    "from re import sub\n",
    "import sys\n",
    "from unidecode import unidecode\n",
    "from nltk.corpus import stopwords\n",
    "from nltk.tokenize import word_tokenize\n",
    "from nltk.stem import WordNetLemmatizer\n",
    "stop_words = set(stopwords.words('french'))\n",
    "from num2words import num2words\n",
    "global str"
   ]
  },
  {
   "cell_type": "code",
   "execution_count": 2,
   "metadata": {},
   "outputs": [],
   "source": [
    "path_data = \"data/data-training-clean.csv\"\n",
    "path_test = \"data/exportNETSOINS_TRANSMISSIONS_semaine319.csv\"\n",
    "categories = ['GRIPPE_IRA', 'GEA_DIARRHEES', 'SUSPICION_TIAC', 'CHUTES', 'APPEL_SAMU', 'VACCINATION']\n",
    "\n",
    "PATTERN_SUPP_HTML : Pattern = re.compile(r'<(.*?)>')\n",
    "REPLACE_NO_SPACE : Pattern= re.compile(r\"['&@¨^.;:!*=\\%?,#<>\\\"()\\[\\]]\")\n",
    "REPLACE_WITH_SPACE : Pattern = re.compile(r\"(<br\\s*/><br\\s*/>)|(\\-)|(\\/)|°\")"
   ]
  },
  {
   "cell_type": "code",
   "execution_count": 3,
   "metadata": {},
   "outputs": [],
   "source": [
    "REPLACE_NUM_TO_STRING =  re.compile(r'\\d+')\n",
    "SUP_EURREUR_SUITE =  re.compile(r'\\bsuite\\b|\\berreur\\b|\\bphpdbdriverocilonguechaine\\b')"
   ]
  },
  {
   "cell_type": "code",
   "execution_count": 4,
   "metadata": {},
   "outputs": [],
   "source": [
    "# nettoyer le texte \n",
    "def preprocess_clean(reviews):\n",
    "    reviews = reviews.lower()\n",
    "    ''' \n",
    "    if type(reviews) == str:\n",
    "        reviews = str(reviews).lower() # mettre le texte en minuscule\n",
    "    else : \n",
    "        print(reviews)\n",
    "        \n",
    "    '''\n",
    "\n",
    "    reviews = re.sub(r'\\bagrave\\b', 'a', reviews) #replacer agrave par a (!à)\n",
    "    reviews = re.sub(r'\\beacut\\b|\\begrave\\b|\\bpreacute\\b', 'e', reviews)#\n",
    "\n",
    "    \n",
    "    sub_html = re.findall(PATTERN_SUPP_HTML, reviews) #supprimer les balise html\n",
    "    for html in sub_html:\n",
    "        if html:\n",
    "            reviews = re.sub(r'\\s+', ' ', reviews)\n",
    "            reviews = re.sub(r\"\\'\", ' ', reviews)\n",
    "            reviews = reviews.replace(html, ' ')\n",
    "            reviews = reviews.replace('< >', ' ')\n",
    "            \n",
    "    #print('1 : ',reviews)\n",
    "    reviews = REPLACE_NO_SPACE.sub(' ', reviews) #supprimer tout les caracteres [.;:!=\\%?,\\\"()\\[\\]]\n",
    "    #print('2 : ',reviews)\n",
    "    reviews = REPLACE_WITH_SPACE.sub(' ', reviews) #supprimer espace entre balise html au cas où y'en a \n",
    "    reviews = reviews.replace('ttt', 'traitement') \n",
    "    reviews = re.sub(r\"([+])\", ' plus ', reviews)\n",
    "    reviews = re.sub(r\"([+])\", ' ', reviews)\n",
    "    \n",
    "    \n",
    "    # transformer les chiffres numérique en alphabet \n",
    "    num_to_string = re.findall(REPLACE_NUM_TO_STRING, reviews)\n",
    "    reviews = re.split(r'(\\d+)', reviews)\n",
    "    reviews = ' '.join(reviews)\n",
    "    for N_T_S in num_to_string:\n",
    "        if N_T_S:\n",
    "            cible = num2words(N_T_S, lang='fr')\n",
    "            reviews = re.sub(r'\\b'+N_T_S+r'\\b', cible, reviews)\n",
    "    #'''\n",
    "    \n",
    "    eurr = re.findall(SUP_EURREUR_SUITE, reviews)\n",
    "    if eurr:\n",
    "        transs = reviews.split()\n",
    "        if len(transs) == 1 :\n",
    "            reviews = 'SUP_EURREUR_SUITE_OKOKOK'\n",
    "    #'''       \n",
    "    reviews = re.sub(r'[0-9]', ' ', reviews)    \n",
    "    #reviews = re.sub(r'\\b\\w{1,3}\\b',' ', reviews)\n",
    "\n",
    "    #La première manipulation souvent effectuée dans le traitement du texte est la suppression de ce qu'on \n",
    "    #appelle en anglais les stopwords. Ce sont les mots très courants dans la langue étudiée \n",
    "    #(\"et\", \"à\", \"le\"... en français) qui n'apportent pas de valeur informative pour la compréhension \n",
    "    #du \"sens\" d'un document et corpus. Il sont très fréquents et ralentissent notre travail : \n",
    "    #nous souhaitons donc les supprimer.\n",
    "    for word in reviews.split() :\n",
    "        if word in stop_words or len(word) < 2:\n",
    "            word = r'\\b' + word + r'\\b'\n",
    "            reviews = re.sub(word, '', reviews)\n",
    "         \n",
    "    reviews = re.sub(' +', ' ', reviews)#supprimer tout espace de plus qui peut exister à la fin de traitement\n",
    "    return reviews"
   ]
  },
  {
   "cell_type": "code",
   "execution_count": 5,
   "metadata": {},
   "outputs": [],
   "source": [
    "#df = pd.read_excel(path_data, index_col=0) \n",
    "#df = df[['libelle2', 'GRIPPE_IRA', 'GEA_DIARRHEES', 'SUSPICION_TIAC', 'CHUTES', 'APPEL_SAMU', 'VACCINATION']]\n",
    "#df = df[df['libelle2'].str.strip().astype(bool)]\n",
    "#df = df[df['libelle2'].str.strip().astype(bool)] #df.iloc[:, df.columns != 'libelle2'].astype(int)\n"
   ]
  },
  {
   "cell_type": "code",
   "execution_count": 6,
   "metadata": {},
   "outputs": [],
   "source": [
    "#df[categories] = df[categories].apply(lambda x: x.astype(int))#cast float(False ou True) en 0 ou 1\n",
    "#df.libelle2 = df.libelle2.apply(lambda x: preprocess_clean(x))#nettoyer le texte la colonne libelle2\n",
    "#df = df.sample(frac=1).reset_index(drop=True) #mélanger les données\n",
    "#df.head(20)"
   ]
  },
  {
   "cell_type": "code",
   "execution_count": 7,
   "metadata": {},
   "outputs": [],
   "source": [
    "#df.to_csv('data/data-training-clean.csv', sep=';', encoding='utf-8')"
   ]
  },
  {
   "cell_type": "code",
   "execution_count": 8,
   "metadata": {},
   "outputs": [
    {
     "data": {
      "text/html": [
       "<div>\n",
       "<style scoped>\n",
       "    .dataframe tbody tr th:only-of-type {\n",
       "        vertical-align: middle;\n",
       "    }\n",
       "\n",
       "    .dataframe tbody tr th {\n",
       "        vertical-align: top;\n",
       "    }\n",
       "\n",
       "    .dataframe thead th {\n",
       "        text-align: right;\n",
       "    }\n",
       "</style>\n",
       "<table border=\"1\" class=\"dataframe\">\n",
       "  <thead>\n",
       "    <tr style=\"text-align: right;\">\n",
       "      <th></th>\n",
       "      <th>Unnamed: 0</th>\n",
       "      <th>libelle2</th>\n",
       "      <th>GRIPPE_IRA</th>\n",
       "      <th>GEA_DIARRHEES</th>\n",
       "      <th>SUSPICION_TIAC</th>\n",
       "      <th>CHUTES</th>\n",
       "      <th>APPEL_SAMU</th>\n",
       "      <th>VACCINATION</th>\n",
       "    </tr>\n",
       "  </thead>\n",
       "  <tbody>\n",
       "    <tr>\n",
       "      <th>0</th>\n",
       "      <td>0</td>\n",
       "      <td>le  à h type  ecpascore  commentaire  au couch...</td>\n",
       "      <td>0</td>\n",
       "      <td>0</td>\n",
       "      <td>0</td>\n",
       "      <td>0</td>\n",
       "      <td>0</td>\n",
       "      <td>0</td>\n",
       "    </tr>\n",
       "    <tr>\n",
       "      <th>1</th>\n",
       "      <td>1</td>\n",
       "      <td>mr n'a pas mangé ce matin et très peu bu duran...</td>\n",
       "      <td>0</td>\n",
       "      <td>0</td>\n",
       "      <td>0</td>\n",
       "      <td>0</td>\n",
       "      <td>0</td>\n",
       "      <td>0</td>\n",
       "    </tr>\n",
       "    <tr>\n",
       "      <th>2</th>\n",
       "      <td>2</td>\n",
       "      <td>réception et mise en place de ses nouvelles ch...</td>\n",
       "      <td>0</td>\n",
       "      <td>0</td>\n",
       "      <td>0</td>\n",
       "      <td>0</td>\n",
       "      <td>0</td>\n",
       "      <td>0</td>\n",
       "    </tr>\n",
       "    <tr>\n",
       "      <th>3</th>\n",
       "      <td>3</td>\n",
       "      <td>hg à g l ce jour prochain bilan le</td>\n",
       "      <td>0</td>\n",
       "      <td>0</td>\n",
       "      <td>0</td>\n",
       "      <td>0</td>\n",
       "      <td>0</td>\n",
       "      <td>0</td>\n",
       "    </tr>\n",
       "    <tr>\n",
       "      <th>4</th>\n",
       "      <td>4</td>\n",
       "      <td>compte rendu psychomotricité groupe thérapeuti...</td>\n",
       "      <td>0</td>\n",
       "      <td>0</td>\n",
       "      <td>0</td>\n",
       "      <td>0</td>\n",
       "      <td>0</td>\n",
       "      <td>0</td>\n",
       "    </tr>\n",
       "  </tbody>\n",
       "</table>\n",
       "</div>"
      ],
      "text/plain": [
       "   Unnamed: 0                                           libelle2  GRIPPE_IRA  \\\n",
       "0           0  le  à h type  ecpascore  commentaire  au couch...           0   \n",
       "1           1  mr n'a pas mangé ce matin et très peu bu duran...           0   \n",
       "2           2  réception et mise en place de ses nouvelles ch...           0   \n",
       "3           3                hg à g l ce jour prochain bilan le            0   \n",
       "4           4  compte rendu psychomotricité groupe thérapeuti...           0   \n",
       "\n",
       "   GEA_DIARRHEES  SUSPICION_TIAC  CHUTES  APPEL_SAMU  VACCINATION  \n",
       "0              0               0       0           0            0  \n",
       "1              0               0       0           0            0  \n",
       "2              0               0       0           0            0  \n",
       "3              0               0       0           0            0  \n",
       "4              0               0       0           0            0  "
      ]
     },
     "execution_count": 8,
     "metadata": {},
     "output_type": "execute_result"
    }
   ],
   "source": [
    "df = pd.read_csv(path_data, encoding='utf-8', sep=\";\")\n",
    "df = df.dropna()\n",
    "#df = df.dropna(axis=0, how='any', thresh=None, subset=None, inplace=False)\n",
    "df.head()"
   ]
  },
  {
   "cell_type": "markdown",
   "metadata": {},
   "source": [
    "# Pre-Processing "
   ]
  },
  {
   "cell_type": "code",
   "execution_count": 9,
   "metadata": {},
   "outputs": [
    {
     "data": {
      "text/html": [
       "<div>\n",
       "<style scoped>\n",
       "    .dataframe tbody tr th:only-of-type {\n",
       "        vertical-align: middle;\n",
       "    }\n",
       "\n",
       "    .dataframe tbody tr th {\n",
       "        vertical-align: top;\n",
       "    }\n",
       "\n",
       "    .dataframe thead th {\n",
       "        text-align: right;\n",
       "    }\n",
       "</style>\n",
       "<table border=\"1\" class=\"dataframe\">\n",
       "  <thead>\n",
       "    <tr style=\"text-align: right;\">\n",
       "      <th></th>\n",
       "      <th>Unnamed: 0</th>\n",
       "      <th>libelle2</th>\n",
       "      <th>GRIPPE_IRA</th>\n",
       "      <th>GEA_DIARRHEES</th>\n",
       "      <th>SUSPICION_TIAC</th>\n",
       "      <th>CHUTES</th>\n",
       "      <th>APPEL_SAMU</th>\n",
       "      <th>VACCINATION</th>\n",
       "    </tr>\n",
       "  </thead>\n",
       "  <tbody>\n",
       "    <tr>\n",
       "      <th>0</th>\n",
       "      <td>0</td>\n",
       "      <td>type  ecpascore  commentaire  coucher lors c...</td>\n",
       "      <td>0</td>\n",
       "      <td>0</td>\n",
       "      <td>0</td>\n",
       "      <td>0</td>\n",
       "      <td>0</td>\n",
       "      <td>0</td>\n",
       "    </tr>\n",
       "    <tr>\n",
       "      <th>1</th>\n",
       "      <td>1</td>\n",
       "      <td>mr mangé matin très peu bu durant petit déjeuner</td>\n",
       "      <td>0</td>\n",
       "      <td>0</td>\n",
       "      <td>0</td>\n",
       "      <td>0</td>\n",
       "      <td>0</td>\n",
       "      <td>0</td>\n",
       "    </tr>\n",
       "    <tr>\n",
       "      <th>2</th>\n",
       "      <td>2</td>\n",
       "      <td>réception mise place nouvelles chaussures chut</td>\n",
       "      <td>0</td>\n",
       "      <td>0</td>\n",
       "      <td>0</td>\n",
       "      <td>0</td>\n",
       "      <td>0</td>\n",
       "      <td>0</td>\n",
       "    </tr>\n",
       "    <tr>\n",
       "      <th>3</th>\n",
       "      <td>3</td>\n",
       "      <td>hg jour prochain bilan</td>\n",
       "      <td>0</td>\n",
       "      <td>0</td>\n",
       "      <td>0</td>\n",
       "      <td>0</td>\n",
       "      <td>0</td>\n",
       "      <td>0</td>\n",
       "    </tr>\n",
       "    <tr>\n",
       "      <th>4</th>\n",
       "      <td>4</td>\n",
       "      <td>compte rendu psychomotricité groupe thérapeuti...</td>\n",
       "      <td>0</td>\n",
       "      <td>0</td>\n",
       "      <td>0</td>\n",
       "      <td>0</td>\n",
       "      <td>0</td>\n",
       "      <td>0</td>\n",
       "    </tr>\n",
       "    <tr>\n",
       "      <th>5</th>\n",
       "      <td>5</td>\n",
       "      <td>demande prescription faite mt feuille mesure p...</td>\n",
       "      <td>0</td>\n",
       "      <td>0</td>\n",
       "      <td>0</td>\n",
       "      <td>0</td>\n",
       "      <td>0</td>\n",
       "      <td>0</td>\n",
       "    </tr>\n",
       "    <tr>\n",
       "      <th>6</th>\n",
       "      <td>6</td>\n",
       "      <td>midi vue fille expliquée maman voulue être la...</td>\n",
       "      <td>0</td>\n",
       "      <td>0</td>\n",
       "      <td>0</td>\n",
       "      <td>0</td>\n",
       "      <td>0</td>\n",
       "      <td>0</td>\n",
       "    </tr>\n",
       "    <tr>\n",
       "      <th>7</th>\n",
       "      <td>7</td>\n",
       "      <td>soin installation petit déjeunerrégimes régime...</td>\n",
       "      <td>0</td>\n",
       "      <td>0</td>\n",
       "      <td>0</td>\n",
       "      <td>0</td>\n",
       "      <td>0</td>\n",
       "      <td>0</td>\n",
       "    </tr>\n",
       "    <tr>\n",
       "      <th>8</th>\n",
       "      <td>8</td>\n",
       "      <td>soin pedicuriefraisage massage</td>\n",
       "      <td>0</td>\n",
       "      <td>0</td>\n",
       "      <td>0</td>\n",
       "      <td>0</td>\n",
       "      <td>0</td>\n",
       "      <td>0</td>\n",
       "    </tr>\n",
       "    <tr>\n",
       "      <th>9</th>\n",
       "      <td>9</td>\n",
       "      <td>mme vue début nuit fc sat siffle peu ni vni ni...</td>\n",
       "      <td>0</td>\n",
       "      <td>0</td>\n",
       "      <td>0</td>\n",
       "      <td>0</td>\n",
       "      <td>0</td>\n",
       "      <td>0</td>\n",
       "    </tr>\n",
       "  </tbody>\n",
       "</table>\n",
       "</div>"
      ],
      "text/plain": [
       "   Unnamed: 0                                           libelle2  GRIPPE_IRA  \\\n",
       "0           0    type  ecpascore  commentaire  coucher lors c...           0   \n",
       "1           1  mr mangé matin très peu bu durant petit déjeuner            0   \n",
       "2           2     réception mise place nouvelles chaussures chut           0   \n",
       "3           3                            hg jour prochain bilan            0   \n",
       "4           4  compte rendu psychomotricité groupe thérapeuti...           0   \n",
       "5           5  demande prescription faite mt feuille mesure p...           0   \n",
       "6           6   midi vue fille expliquée maman voulue être la...           0   \n",
       "7           7  soin installation petit déjeunerrégimes régime...           0   \n",
       "8           8                     soin pedicuriefraisage massage           0   \n",
       "9           9  mme vue début nuit fc sat siffle peu ni vni ni...           0   \n",
       "\n",
       "   GEA_DIARRHEES  SUSPICION_TIAC  CHUTES  APPEL_SAMU  VACCINATION  \n",
       "0              0               0       0           0            0  \n",
       "1              0               0       0           0            0  \n",
       "2              0               0       0           0            0  \n",
       "3              0               0       0           0            0  \n",
       "4              0               0       0           0            0  \n",
       "5              0               0       0           0            0  \n",
       "6              0               0       0           0            0  \n",
       "7              0               0       0           0            0  \n",
       "8              0               0       0           0            0  \n",
       "9              0               0       0           0            0  "
      ]
     },
     "execution_count": 9,
     "metadata": {},
     "output_type": "execute_result"
    }
   ],
   "source": [
    "df.libelle2 = df.libelle2.apply(lambda x: preprocess_clean(x))#nettoyer le texte la colonne libelle2\n",
    "df = df[~df.libelle2.str.contains(r'\\bSUP_EURREUR_SUITE_OKOKOK\\b')]\n",
    "df.head(10)"
   ]
  },
  {
   "cell_type": "code",
   "execution_count": 10,
   "metadata": {},
   "outputs": [
    {
     "name": "stdout",
     "output_type": "stream",
     "text": [
      "1746 649255\n"
     ]
    }
   ],
   "source": [
    "#x = df.iloc[:, df.columns == 'GRIPPE_IRA'].astype(int)\n",
    "\n",
    "#df = df.dropna(axis=0, how='any', thresh=None, subset=None, inplace=False)\n",
    "print(651001 - len(df), len(df))\n"
   ]
  },
  {
   "cell_type": "code",
   "execution_count": 11,
   "metadata": {},
   "outputs": [
    {
     "name": "stdout",
     "output_type": "stream",
     "text": [
      "GRIPPE_IRA :  GRIPPE_IRA\n",
      "0    648201\n",
      "1      1054\n",
      "dtype: int64\n",
      "GEA_DIARRHEES : GEA_DIARRHEES\n",
      "0    648850\n",
      "1       405\n",
      "dtype: int64\n",
      "SUSPICION_TIAC : SUSPICION_TIAC\n",
      "0    648891\n",
      "1       364\n",
      "dtype: int64\n",
      "CHUTES : CHUTES\n",
      "0    622870\n",
      "1     26385\n",
      "dtype: int64\n",
      "APPEL_SAMU : APPEL_SAMU\n",
      "0    646497\n",
      "1      2758\n",
      "dtype: int64\n",
      "VACCINATION : VACCINATION\n",
      "0    648728\n",
      "1       527\n",
      "dtype: int64\n"
     ]
    }
   ],
   "source": [
    "output = df.drop_duplicates()\n",
    "print('GRIPPE_IRA : ', output.groupby('GRIPPE_IRA').size())\n",
    "print('GEA_DIARRHEES :', output.groupby('GEA_DIARRHEES').size())\n",
    "print('SUSPICION_TIAC :', output.groupby('SUSPICION_TIAC').size())\n",
    "print('CHUTES :', output.groupby('CHUTES').size())\n",
    "print('APPEL_SAMU :', output.groupby('APPEL_SAMU').size())\n",
    "print('VACCINATION :', output.groupby('VACCINATION').size())"
   ]
  },
  {
   "cell_type": "code",
   "execution_count": 12,
   "metadata": {},
   "outputs": [
    {
     "data": {
      "text/plain": [
       "'\\ndf_Test = pd.read_csv(path_test, encoding=\\'utf-8\\', sep=\";\")\\n#df_Test = df_Test.head(1000)\\ndf_Test = df_Test[[\\'libelle2\\']]\\ndf_Test = df_Test[df_Test[\\'libelle2\\'].str.strip().astype(bool)]\\ndf_Test.libelle2 = df_Test.libelle2.apply(lambda x: preprocess_clean(x))\\ndf_Test = df_Test.sample(frac=1).reset_index(drop=True) #mix data\\ndf_Test.head(10)\\n'"
      ]
     },
     "execution_count": 12,
     "metadata": {},
     "output_type": "execute_result"
    }
   ],
   "source": [
    "'''\n",
    "df_Test = pd.read_csv(path_test, encoding='utf-8', sep=\";\")\n",
    "#df_Test = df_Test.head(1000)\n",
    "df_Test = df_Test[['libelle2']]\n",
    "df_Test = df_Test[df_Test['libelle2'].str.strip().astype(bool)]\n",
    "df_Test.libelle2 = df_Test.libelle2.apply(lambda x: preprocess_clean(x))\n",
    "df_Test = df_Test.sample(frac=1).reset_index(drop=True) #mix data\n",
    "df_Test.head(10)\n",
    "'''\n"
   ]
  },
  {
   "cell_type": "code",
   "execution_count": 13,
   "metadata": {},
   "outputs": [],
   "source": [
    "data = []\n",
    "cont = 0\n",
    "\n",
    "for id_, libelle2, GRIPPE_IRA, GEA_DIARRHEES, SUSPICION_TIAC, CHUTES, APPEL_SAMU, VACCINATION in df.values.tolist():\n",
    "    lable = ''\n",
    "\n",
    "    #print(id_, libelle2)\n",
    "\n",
    "    if CHUTES:\n",
    "        #print(id_, libelle2)\n",
    "        lable += 'CHUTES '\n",
    "        data.append((libelle2, lable))\n",
    "    '''\n",
    "    elif GEA_DIARRHEES :\n",
    "        lable += 'GEA_DIARRHEES '\n",
    "        data.append((libelle2, lable))\n",
    "        \n",
    "    elif SUSPICION_TIAC : \n",
    "        lable += 'SUSPICION_TIAC '\n",
    "        data.append((libelle2, lable))\n",
    "    \n",
    "    #elif CHUTES : \n",
    "    if CHUTES :\n",
    "        lable += 'CHUTES '\n",
    "        data.append((libelle2, lable))\n",
    "    \n",
    "    elif APPEL_SAMU :\n",
    "        #print(id_, libelle2)\n",
    "        lable += 'APPEL_SAMU '\n",
    "        data.append((libelle2, lable))\n",
    "    elif VACCINATION :\n",
    "        lable += 'VACCINATION '\n",
    "        data.append((libelle2, lable))\n",
    "    ''' \n",
    "    \n",
    "    if lable == '':\n",
    "        #print(id_, libelle2)\n",
    "        lable = 'RIEN'\n",
    "        cont += 1\n",
    "        \n",
    "        \n",
    "    if lable == 'RIEN' and cont % 20 == 0: \n",
    "        data.append((libelle2, lable))\n",
    "        \n",
    "        \n",
    "    \n",
    "    lable = ''"
   ]
  },
  {
   "cell_type": "code",
   "execution_count": 14,
   "metadata": {},
   "outputs": [
    {
     "data": {
      "text/plain": [
       "57528"
      ]
     },
     "execution_count": 14,
     "metadata": {},
     "output_type": "execute_result"
    }
   ],
   "source": [
    "len(data)"
   ]
  },
  {
   "cell_type": "code",
   "execution_count": 15,
   "metadata": {},
   "outputs": [
    {
     "data": {
      "text/html": [
       "<div>\n",
       "<style scoped>\n",
       "    .dataframe tbody tr th:only-of-type {\n",
       "        vertical-align: middle;\n",
       "    }\n",
       "\n",
       "    .dataframe tbody tr th {\n",
       "        vertical-align: top;\n",
       "    }\n",
       "\n",
       "    .dataframe thead th {\n",
       "        text-align: right;\n",
       "    }\n",
       "</style>\n",
       "<table border=\"1\" class=\"dataframe\">\n",
       "  <thead>\n",
       "    <tr style=\"text-align: right;\">\n",
       "      <th></th>\n",
       "      <th>libelle2</th>\n",
       "      <th>label</th>\n",
       "      <th>label_num</th>\n",
       "    </tr>\n",
       "  </thead>\n",
       "  <tbody>\n",
       "    <tr>\n",
       "      <th>0</th>\n",
       "      <td>date témoin sans témoinlieu chambre résidentpo...</td>\n",
       "      <td>CHUTES</td>\n",
       "      <td>0</td>\n",
       "    </tr>\n",
       "    <tr>\n",
       "      <th>1</th>\n",
       "      <td>nouveau fr coquille devrait arriver mardi proc...</td>\n",
       "      <td>RIEN</td>\n",
       "      <td>1</td>\n",
       "    </tr>\n",
       "    <tr>\n",
       "      <th>2</th>\n",
       "      <td>merci contacter bureau rdv traumatologie becle...</td>\n",
       "      <td>CHUTES</td>\n",
       "      <td>0</td>\n",
       "    </tr>\n",
       "    <tr>\n",
       "      <th>3</th>\n",
       "      <td>mme rentre jambes résidants salon</td>\n",
       "      <td>RIEN</td>\n",
       "      <td>1</td>\n",
       "    </tr>\n",
       "    <tr>\n",
       "      <th>4</th>\n",
       "      <td>date témoin sans témoinlieu couloirposition av...</td>\n",
       "      <td>CHUTES</td>\n",
       "      <td>0</td>\n",
       "    </tr>\n",
       "    <tr>\n",
       "      <th>5</th>\n",
       "      <td>date témoin lequeux nathalielieu premier étage...</td>\n",
       "      <td>CHUTES</td>\n",
       "      <td>0</td>\n",
       "    </tr>\n",
       "    <tr>\n",
       "      <th>6</th>\n",
       "      <td>relevé tiers ouirelevé matériel aide transfert...</td>\n",
       "      <td>CHUTES</td>\n",
       "      <td>0</td>\n",
       "    </tr>\n",
       "    <tr>\n",
       "      <th>7</th>\n",
       "      <td>ongles coupé jour</td>\n",
       "      <td>RIEN</td>\n",
       "      <td>1</td>\n",
       "    </tr>\n",
       "    <tr>\n",
       "      <th>8</th>\n",
       "      <td>essouflement matin</td>\n",
       "      <td>RIEN</td>\n",
       "      <td>1</td>\n",
       "    </tr>\n",
       "    <tr>\n",
       "      <th>9</th>\n",
       "      <td>date témoin sans témoinlieu chambre résidentpo...</td>\n",
       "      <td>CHUTES</td>\n",
       "      <td>0</td>\n",
       "    </tr>\n",
       "  </tbody>\n",
       "</table>\n",
       "</div>"
      ],
      "text/plain": [
       "                                            libelle2    label  label_num\n",
       "0  date témoin sans témoinlieu chambre résidentpo...  CHUTES           0\n",
       "1  nouveau fr coquille devrait arriver mardi proc...     RIEN          1\n",
       "2  merci contacter bureau rdv traumatologie becle...  CHUTES           0\n",
       "3                 mme rentre jambes résidants salon      RIEN          1\n",
       "4  date témoin sans témoinlieu couloirposition av...  CHUTES           0\n",
       "5  date témoin lequeux nathalielieu premier étage...  CHUTES           0\n",
       "6  relevé tiers ouirelevé matériel aide transfert...  CHUTES           0\n",
       "7                                  ongles coupé jour     RIEN          1\n",
       "8                                 essouflement matin     RIEN          1\n",
       "9  date témoin sans témoinlieu chambre résidentpo...  CHUTES           0"
      ]
     },
     "execution_count": 15,
     "metadata": {},
     "output_type": "execute_result"
    }
   ],
   "source": [
    "from sklearn.preprocessing import LabelEncoder\n",
    "\n",
    "df_data = pd.DataFrame(data, columns =['libelle2', 'label']) \n",
    "df_data = df_data.sample(frac=1).reset_index(drop=True)\n",
    "\n",
    "#ajouter une colonne où on transmet le label en nombre correspondant.\n",
    "LE = LabelEncoder()\n",
    "df_data['label_num'] = LE.fit_transform(df_data['label'])\n",
    "df_data.head(10)"
   ]
  },
  {
   "cell_type": "code",
   "execution_count": 16,
   "metadata": {},
   "outputs": [
    {
     "data": {
      "text/plain": [
       "label\n",
       "CHUTES     26385\n",
       "RIEN       31143\n",
       "Name: libelle2, dtype: int64"
      ]
     },
     "metadata": {},
     "output_type": "display_data"
    },
    {
     "name": "stdout",
     "output_type": "stream",
     "text": [
      "45.86462244472257\n"
     ]
    }
   ],
   "source": [
    "display(df_data.groupby(['label'])['libelle2'].count())\n",
    "\n",
    "print(26385 /(26385+31143) * 100)"
   ]
  },
  {
   "cell_type": "markdown",
   "metadata": {},
   "source": [
    "# Normaliser les données "
   ]
  },
  {
   "cell_type": "code",
   "execution_count": 17,
   "metadata": {},
   "outputs": [
    {
     "name": "stderr",
     "output_type": "stream",
     "text": [
      "Using TensorFlow backend.\n"
     ]
    },
    {
     "name": "stdout",
     "output_type": "stream",
     "text": [
      "Found 45684 unique tokens.\n"
     ]
    }
   ],
   "source": [
    "from keras.preprocessing.text import Tokenizer\n",
    "# The maximum number of words to be used. (most frequent)\n",
    "MAX_NB_WORDS = 60000\n",
    "# Max number of words in each complaint.\n",
    "MAX_SEQUENCE_LENGTH = 512\n",
    "# This is fixed.\n",
    "EMBEDDING_DIM = 100\n",
    "texts = df_data['libelle2'].astype('str')\n",
    "tokenizer = Tokenizer(num_words=MAX_NB_WORDS, filters='!\"#$%&()*+,-./:;<=>?@[\\]^_`{|}~', lower=True)\n",
    "tokenizer.fit_on_texts(texts)\n",
    "word_index = tokenizer.word_index\n",
    "print('Found %s unique tokens.' % len(word_index))"
   ]
  },
  {
   "cell_type": "code",
   "execution_count": 18,
   "metadata": {},
   "outputs": [
    {
     "data": {
      "text/plain": [
       "{'non': 1,\n",
       " 'chute': 2,\n",
       " 'prévenu': 3,\n",
       " 'sans': 4,\n",
       " 'aide': 5,\n",
       " 'plus': 6,\n",
       " 'chambre': 7,\n",
       " 'résident': 8,\n",
       " 'relevé': 9,\n",
       " 'moment': 10}"
      ]
     },
     "execution_count": 18,
     "metadata": {},
     "output_type": "execute_result"
    }
   ],
   "source": [
    "dict(list(word_index.items())[0:10])\n"
   ]
  },
  {
   "cell_type": "code",
   "execution_count": 19,
   "metadata": {},
   "outputs": [
    {
     "name": "stdout",
     "output_type": "stream",
     "text": [
      "Shape of data tensor: (57528, 512)\n"
     ]
    }
   ],
   "source": [
    "from keras.preprocessing.sequence import pad_sequences\n",
    "X = tokenizer.texts_to_sequences(texts)\n",
    "X = pad_sequences(X, maxlen=MAX_SEQUENCE_LENGTH)\n",
    "print('Shape of data tensor:', X.shape)\n"
   ]
  },
  {
   "cell_type": "code",
   "execution_count": 20,
   "metadata": {},
   "outputs": [
    {
     "name": "stdout",
     "output_type": "stream",
     "text": [
      "Shape of label tensor: (57528,)\n"
     ]
    }
   ],
   "source": [
    "Y = df_data['label_num'].values\n",
    "print('Shape of label tensor:', Y.shape)"
   ]
  },
  {
   "cell_type": "markdown",
   "metadata": {},
   "source": [
    "# Data of training "
   ]
  },
  {
   "cell_type": "code",
   "execution_count": 21,
   "metadata": {},
   "outputs": [],
   "source": [
    "data_apprenti = []\n",
    "for x, y in zip(X, Y):\n",
    "    data_apprenti.append((x, y))"
   ]
  },
  {
   "cell_type": "code",
   "execution_count": 22,
   "metadata": {},
   "outputs": [
    {
     "name": "stdout",
     "output_type": "stream",
     "text": [
      "57528\n"
     ]
    },
    {
     "data": {
      "text/html": [
       "<div>\n",
       "<style scoped>\n",
       "    .dataframe tbody tr th:only-of-type {\n",
       "        vertical-align: middle;\n",
       "    }\n",
       "\n",
       "    .dataframe tbody tr th {\n",
       "        vertical-align: top;\n",
       "    }\n",
       "\n",
       "    .dataframe thead th {\n",
       "        text-align: right;\n",
       "    }\n",
       "</style>\n",
       "<table border=\"1\" class=\"dataframe\">\n",
       "  <thead>\n",
       "    <tr style=\"text-align: right;\">\n",
       "      <th></th>\n",
       "      <th>description</th>\n",
       "      <th>label</th>\n",
       "    </tr>\n",
       "  </thead>\n",
       "  <tbody>\n",
       "    <tr>\n",
       "      <th>0</th>\n",
       "      <td>[0, 0, 0, 0, 0, 0, 0, 0, 0, 0, 0, 0, 0, 0, 0, ...</td>\n",
       "      <td>0</td>\n",
       "    </tr>\n",
       "    <tr>\n",
       "      <th>1</th>\n",
       "      <td>[0, 0, 0, 0, 0, 0, 0, 0, 0, 0, 0, 0, 0, 0, 0, ...</td>\n",
       "      <td>1</td>\n",
       "    </tr>\n",
       "    <tr>\n",
       "      <th>2</th>\n",
       "      <td>[0, 0, 0, 0, 0, 0, 0, 0, 0, 0, 0, 0, 0, 0, 0, ...</td>\n",
       "      <td>0</td>\n",
       "    </tr>\n",
       "    <tr>\n",
       "      <th>3</th>\n",
       "      <td>[0, 0, 0, 0, 0, 0, 0, 0, 0, 0, 0, 0, 0, 0, 0, ...</td>\n",
       "      <td>1</td>\n",
       "    </tr>\n",
       "    <tr>\n",
       "      <th>4</th>\n",
       "      <td>[0, 0, 0, 0, 0, 0, 0, 0, 0, 0, 0, 0, 0, 0, 0, ...</td>\n",
       "      <td>0</td>\n",
       "    </tr>\n",
       "  </tbody>\n",
       "</table>\n",
       "</div>"
      ],
      "text/plain": [
       "                                         description  label\n",
       "0  [0, 0, 0, 0, 0, 0, 0, 0, 0, 0, 0, 0, 0, 0, 0, ...      0\n",
       "1  [0, 0, 0, 0, 0, 0, 0, 0, 0, 0, 0, 0, 0, 0, 0, ...      1\n",
       "2  [0, 0, 0, 0, 0, 0, 0, 0, 0, 0, 0, 0, 0, 0, 0, ...      0\n",
       "3  [0, 0, 0, 0, 0, 0, 0, 0, 0, 0, 0, 0, 0, 0, 0, ...      1\n",
       "4  [0, 0, 0, 0, 0, 0, 0, 0, 0, 0, 0, 0, 0, 0, 0, ...      0"
      ]
     },
     "execution_count": 22,
     "metadata": {},
     "output_type": "execute_result"
    }
   ],
   "source": [
    "df_apprentissage = pd.DataFrame(data_apprenti, columns =['description', 'label'])\n",
    "print(len(df_apprentissage))\n",
    "df_apprentissage.head()"
   ]
  },
  {
   "cell_type": "code",
   "execution_count": 23,
   "metadata": {},
   "outputs": [
    {
     "data": {
      "text/plain": [
       "57528"
      ]
     },
     "execution_count": 23,
     "metadata": {},
     "output_type": "execute_result"
    }
   ],
   "source": [
    "len(df_apprentissage)"
   ]
  },
  {
   "cell_type": "code",
   "execution_count": 24,
   "metadata": {},
   "outputs": [],
   "source": [
    "#df_apprentissage.to_csv('data/data-apprentissage.csv', sep=';', encoding='utf-8')"
   ]
  },
  {
   "cell_type": "markdown",
   "metadata": {},
   "source": [
    "# Train test split "
   ]
  },
  {
   "cell_type": "code",
   "execution_count": 27,
   "metadata": {},
   "outputs": [
    {
     "name": "stdout",
     "output_type": "stream",
     "text": [
      "(46022, 512) (46022,)\n",
      "(11506, 512) (11506,)\n"
     ]
    }
   ],
   "source": [
    "from sklearn.model_selection import train_test_split\n",
    "X_train, X_test, Y_train, Y_test = train_test_split(X,Y, test_size = 0.20, random_state = 42)\n",
    "print(X_train.shape,Y_train.shape)\n",
    "print(X_test.shape,Y_test.shape)\n",
    "#X_train"
   ]
  },
  {
   "cell_type": "code",
   "execution_count": 27,
   "metadata": {},
   "outputs": [],
   "source": [
    "import numpy\n",
    "from keras.datasets import imdb\n",
    "from keras.models import Sequential\n",
    "from keras.layers import Dense\n",
    "from keras.layers import LSTM, Dropout, SpatialDropout1D\n",
    "from keras.layers.embeddings import Embedding\n",
    "from keras.preprocessing import sequence\n",
    "from keras.callbacks import ModelCheckpoint, EarlyStopping\n",
    "# fix random seed for reproducibility\n",
    "numpy.random.seed(7)"
   ]
  },
  {
   "cell_type": "markdown",
   "metadata": {},
   "source": [
    "# Créer le modèle"
   ]
  },
  {
   "cell_type": "code",
   "execution_count": 28,
   "metadata": {},
   "outputs": [
    {
     "name": "stdout",
     "output_type": "stream",
     "text": [
      "WARNING:tensorflow:From /usr/local/lib/python3.7/site-packages/tensorflow/python/framework/op_def_library.py:263: colocate_with (from tensorflow.python.framework.ops) is deprecated and will be removed in a future version.\n",
      "Instructions for updating:\n",
      "Colocations handled automatically by placer.\n",
      "WARNING:tensorflow:From /usr/local/lib/python3.7/site-packages/keras/backend/tensorflow_backend.py:3445: calling dropout (from tensorflow.python.ops.nn_ops) with keep_prob is deprecated and will be removed in a future version.\n",
      "Instructions for updating:\n",
      "Please use `rate` instead of `keep_prob`. Rate should be set to `rate = 1 - keep_prob`.\n",
      "_________________________________________________________________\n",
      "Layer (type)                 Output Shape              Param #   \n",
      "=================================================================\n",
      "embedding_1 (Embedding)      (None, 512, 100)          6000000   \n",
      "_________________________________________________________________\n",
      "spatial_dropout1d_1 (Spatial (None, 512, 100)          0         \n",
      "_________________________________________________________________\n",
      "lstm_1 (LSTM)                (None, 200)               240800    \n",
      "_________________________________________________________________\n",
      "dense_1 (Dense)              (None, 2)                 402       \n",
      "=================================================================\n",
      "Total params: 6,241,202\n",
      "Trainable params: 6,241,202\n",
      "Non-trainable params: 0\n",
      "_________________________________________________________________\n",
      "None\n"
     ]
    }
   ],
   "source": [
    "# create the model\n",
    "model = Sequential()\n",
    "model.add(Embedding(MAX_NB_WORDS, EMBEDDING_DIM, input_length=X_train.shape[1]))\n",
    "model.add(SpatialDropout1D(0.2))\n",
    "model.add(LSTM(200, dropout=0.2, recurrent_dropout=0.2))\n",
    "model.add(Dense(2, activation='softmax'))\n",
    "model.compile(loss='sparse_categorical_crossentropy', optimizer='adam', metrics=['accuracy'])\n",
    "print(model.summary())\n"
   ]
  },
  {
   "cell_type": "code",
   "execution_count": 200,
   "metadata": {},
   "outputs": [
    {
     "name": "stdout",
     "output_type": "stream",
     "text": [
      "Train on 36817 samples, validate on 9205 samples\n",
      "Epoch 1/5\n",
      "36817/36817 [==============================] - 1111s 30ms/step - loss: 0.1507 - acc: 0.9439 - val_loss: 0.0670 - val_acc: 0.9839\n",
      "Epoch 2/5\n",
      "36817/36817 [==============================] - 1111s 30ms/step - loss: 0.0435 - acc: 0.9883 - val_loss: 0.0608 - val_acc: 0.9845\n",
      "Epoch 3/5\n",
      "36817/36817 [==============================] - 1438s 39ms/step - loss: 0.0274 - acc: 0.9918 - val_loss: 0.0636 - val_acc: 0.9798\n",
      "Epoch 4/5\n",
      "36817/36817 [==============================] - 1254s 34ms/step - loss: 0.0184 - acc: 0.9946 - val_loss: 0.0700 - val_acc: 0.9821\n",
      "Epoch 5/5\n",
      "36817/36817 [==============================] - 1139s 31ms/step - loss: 0.0145 - acc: 0.9959 - val_loss: 0.0769 - val_acc: 0.9813\n"
     ]
    }
   ],
   "source": [
    "epochs = 5\n",
    "batch_size = 100\n",
    "\n",
    "history = model.fit(X_train, Y_train, epochs=epochs, batch_size=batch_size,validation_split=0.2,\n",
    "                    callbacks=[EarlyStopping(monitor='val_loss', patience=3, min_delta=0.0001)]).history\n",
    "\n"
   ]
  },
  {
   "cell_type": "markdown",
   "metadata": {},
   "source": [
    "#### temps d'apprentissage : \n",
    "###### chute : 1.2991667h\n",
    "\n",
    "###### 27/02/2020  des chutes est de 38.84259804498881% sur 67928 l'ensemble des données d'apprentissage \n"
   ]
  },
  {
   "cell_type": "code",
   "execution_count": 29,
   "metadata": {},
   "outputs": [],
   "source": [
    "model.save_weights(\"model/model-CHUTES-04-03.h5\")"
   ]
  },
  {
   "cell_type": "code",
   "execution_count": 30,
   "metadata": {},
   "outputs": [],
   "source": [
    "model.load_weights(\"model/model-CHUTES-V2.h5\", by_name=True)"
   ]
  },
  {
   "cell_type": "code",
   "execution_count": 31,
   "metadata": {},
   "outputs": [
    {
     "name": "stdout",
     "output_type": "stream",
     "text": [
      "11506/11506 [==============================] - 94s 8ms/step\n",
      "Test set \n",
      "Loss:  0.691 \n",
      "Précision:  0.689\n"
     ]
    }
   ],
   "source": [
    "accr = model.evaluate (X_test, Y_test) \n",
    "print ('Test set \\nLoss: {: 0.3f} \\nPrécision: {: 0.3f}'. format (accr [0], accr [1]))"
   ]
  },
  {
   "cell_type": "code",
   "execution_count": 203,
   "metadata": {},
   "outputs": [],
   "source": [
    "def plot_metrics(history):\n",
    "    \n",
    "    train_loss = history['loss']\n",
    "    val_loss = history['val_loss']\n",
    "    train_acc = history['acc']\n",
    "    val_acc = history['val_acc']\n",
    "    \n",
    "    # Loss\n",
    "    plt.figure()\n",
    "    plt.plot(train_loss, label='Training Loss')\n",
    "    plt.plot(val_loss, label='Validation Loss')\n",
    "    plt.title('Model Loss')\n",
    "    plt.ylabel('loss')\n",
    "    plt.xlabel('epoch')\n",
    "    plt.legend(['train', 'test'], loc='upper left')\n",
    "    plt.legend()\n",
    "    plt.savefig('images/Loss-CHUTES-de-symptômes-.png')\n",
    "    plt.show()\n",
    "    \n",
    "    # Accuracy\n",
    "    plt.figure()\n",
    "    plt.plot(train_acc, label='Training Accuracy')\n",
    "    plt.plot(val_acc, label='Validation Accuracy')\n",
    "    plt.title('Model Accuracy')\n",
    "    plt.ylabel('Accuracy')\n",
    "    plt.xlabel('epoch')\n",
    "    plt.legend(['train', 'test'], loc='upper left')\n",
    "    plt.legend()\n",
    "    plt.savefig('images/Accuracy-CHUTES-de-symptômes-.png')\n",
    "    \n",
    "    plt.show()\n",
    "    "
   ]
  },
  {
   "cell_type": "code",
   "execution_count": 204,
   "metadata": {},
   "outputs": [
    {
     "data": {
      "image/png": "[encoded data removed]",
      "text/plain": [
       "<Figure size 432x288 with 1 Axes>"
      ]
     },
     "metadata": {
      "needs_background": "light"
     },
     "output_type": "display_data"
    },
    {
     "data": {
      "image/png": "[encoded data removed]",
      "text/plain": [
       "<Figure size 432x288 with 1 Axes>"
      ]
     },
     "metadata": {
      "needs_background": "light"
     },
     "output_type": "display_data"
    }
   ],
   "source": [
    "import matplotlib.pyplot as plt\n",
    "plot_metrics(history)"
   ]
  },
  {
   "cell_type": "markdown",
   "metadata": {},
   "source": [
    "# Tester avec des nouvelles transmissions \n",
    "#### la semaine du 10/02 au 16/02"
   ]
  },
  {
   "cell_type": "code",
   "execution_count": 174,
   "metadata": {},
   "outputs": [],
   "source": [
    "new_transmissions_grppe = [\"BILAN BIO DEMANDÉ INFECTIEUX , SERO GRIPPALEGAÏACS SUR SELLES , SUSPICION D'UN SYNDROME \\\n",
    "                NÉOPLASIQUEKINÉ RESPIRATOIRE\", \n",
    "                 \"SUITE CONSULTATION : D'APÈS SON ACCOMPAGNATEUR : PAS DE PB PNEUMO, PAS DE VISITE \\\n",
    "                 À REPROGRAMMER. DEMANDE DE ME DENIS POUR ARRET DU DIURÉTIQUE, PNEUMOLOGUE PAS CONTRE \\\n",
    "                 À PRIORI MAIS ABSENCE DE COMPTE RENDU. DEMANDE DE CONSULTATION FAITE AVEC LE DR FROMONT,\\\n",
    "                 VIENDRA DEMAIN OU VENDREDI.\",\n",
    "                \"ETAT GÉNÉRAL OKTOUSSE PEU, NON ENCOMBRÉTRAITEMENT TAMIFLU + ANTIBIOTIQUES DONNÉS HIER \\\n",
    "                ET AUJOURDH'UIAIMERAIT QU'ON LUI APPORTE LE JOURNAL LE MATIN CAR ÉTANT ISOLÉ IL NE PEUT \\\n",
    "                PAST°= 36.8°C À 10HINJECTION DE ZARZIO FAIT LE 11/02\", \n",
    "                \"GRIPPE A CONFIRMÉE, RESPIRATION SIFFLANTE REMARQUÉE AUJOURD'HUI PLUS QUE LES AUTRES JOURS\", \n",
    "                \"A DES APPAREILS AUDITIFS DES 2 COTÉS ET DES LUNETTESA SAVOIR : A ÉTÉ HOSPITALISÉE EN DÉCEMBRE\\\n",
    "                EN SERVICE DE RÉANIMATION POUR UNE PNEUMOPATHIE\"]\n",
    "\n",
    "new_transmissions_chutes = [\"LES CULOTTES DE MME P SONT TOUTE DÉCHIRÉES ET ÇA TOMBE QUAND ELLE MARCHE\",\n",
    "                          \"CHUTE DANS LA SALLE DE BAIN CET APRÈS MIDI, SANS GRAVITÉ.TA=114/75; POULS=103; T°=36.7°C, SAT=96%.LA FAMILLE(FILS) APPELÉ QUI NE RÉPOND PAS, MESSAGE VOCAL LAISSÉ SUR LE RÉPONDEUR TÉLÉPHONIQUE.A SURVEILLER+++++.\"]\n"
   ]
  },
  {
   "cell_type": "code",
   "execution_count": 175,
   "metadata": {},
   "outputs": [
    {
     "name": "stdout",
     "output_type": "stream",
     "text": [
      "pred :  rien\n",
      "pred :  rien\n",
      "pred :  rien\n",
      "pred :  rien\n",
      "pred :  rien\n"
     ]
    }
   ],
   "source": [
    "for transmissions in new_transmissions_grppe :\n",
    "    transmissions = [preprocess_clean(transmissions)]\n",
    "    seq = tokenizer.texts_to_sequences(transmissions)\n",
    "    padded = pad_sequences(seq, maxlen=MAX_SEQUENCE_LENGTH)\n",
    "    pred = model.predict(padded)\n",
    "\n",
    "    labels = ['GRIPPE_IRA', 'rien']\n",
    "    print('pred : ', labels[np.argmax(pred)])"
   ]
  },
  {
   "cell_type": "code",
   "execution_count": 27,
   "metadata": {},
   "outputs": [
    {
     "data": {
      "text/html": [
       "<div>\n",
       "<style scoped>\n",
       "    .dataframe tbody tr th:only-of-type {\n",
       "        vertical-align: middle;\n",
       "    }\n",
       "\n",
       "    .dataframe tbody tr th {\n",
       "        vertical-align: top;\n",
       "    }\n",
       "\n",
       "    .dataframe thead th {\n",
       "        text-align: right;\n",
       "    }\n",
       "</style>\n",
       "<table border=\"1\" class=\"dataframe\">\n",
       "  <thead>\n",
       "    <tr style=\"text-align: right;\">\n",
       "      <th></th>\n",
       "      <th>libelle2</th>\n",
       "      <th>CHUTES</th>\n",
       "    </tr>\n",
       "  </thead>\n",
       "  <tbody>\n",
       "    <tr>\n",
       "      <th>0</th>\n",
       "      <td>BILAN SANGUIN À JEUN DEMAIN -&gt; PANCARTE SUR LA...</td>\n",
       "      <td>False</td>\n",
       "    </tr>\n",
       "    <tr>\n",
       "      <th>1</th>\n",
       "      <td>DOUCHÉ A 3 REPRISE</td>\n",
       "      <td>False</td>\n",
       "    </tr>\n",
       "    <tr>\n",
       "      <th>2</th>\n",
       "      <td>CE SOIR PAS DE VOMISSEMENT, NI DE NAUSÉES, A B...</td>\n",
       "      <td>False</td>\n",
       "    </tr>\n",
       "    <tr>\n",
       "      <th>3</th>\n",
       "      <td>NOUS LUI AVONS DONNÉ À BOIRE, IDE PREVENUE</td>\n",
       "      <td>False</td>\n",
       "    </tr>\n",
       "    <tr>\n",
       "      <th>4</th>\n",
       "      <td>TA 147/74</td>\n",
       "      <td>False</td>\n",
       "    </tr>\n",
       "  </tbody>\n",
       "</table>\n",
       "</div>"
      ],
      "text/plain": [
       "                                            libelle2  CHUTES\n",
       "0  BILAN SANGUIN À JEUN DEMAIN -> PANCARTE SUR LA...   False\n",
       "1                                 DOUCHÉ A 3 REPRISE   False\n",
       "2  CE SOIR PAS DE VOMISSEMENT, NI DE NAUSÉES, A B...   False\n",
       "3         NOUS LUI AVONS DONNÉ À BOIRE, IDE PREVENUE   False\n",
       "4                                          TA 147/74   False"
      ]
     },
     "execution_count": 27,
     "metadata": {},
     "output_type": "execute_result"
    }
   ],
   "source": [
    "path_test = \"data/test/exportNETSOINS_TRANSMISSIONS__semaine319.csv\"\n",
    "df_test = pd.read_csv(path_test, encoding='utf-8', sep=\";\")\n",
    "df_test = df_test.sample(frac=1).reset_index(drop=True)\n",
    "df_test = df_test[['libelle2','CHUTES']]\n",
    "df_test = df_test.head(3000)\n",
    "df_test.head()"
   ]
  },
  {
   "cell_type": "code",
   "execution_count": 29,
   "metadata": {},
   "outputs": [
    {
     "name": "stdout",
     "output_type": "stream",
     "text": [
      "229.77576804161072 seconds\n"
     ]
    }
   ],
   "source": [
    "import time\n",
    "\n",
    "labels = ['CHUTE', 'RIEN']\n",
    "tab_predict = []\n",
    "\n",
    "start_time = time.time()\n",
    "for libelle2, CHUTES in df_test.values.tolist():\n",
    "    transmissions = [preprocess_clean(libelle2)]\n",
    "\n",
    "    seq = tokenizer.texts_to_sequences(transmissions)\n",
    "    padded = pad_sequences(seq, maxlen=MAX_SEQUENCE_LENGTH)\n",
    "    pred = model.predict(padded)\n",
    "\n",
    "    #print('pred : ', labels[np.argmax(pred)])\n",
    "    prediction = labels[np.argmax(pred)]\n",
    "    \n",
    "    #if CHUTES == False and prediction == 'GRIPPE' :\n",
    "    tab_predict.append((libelle2, CHUTES, prediction))\n",
    "        \n",
    "print(\"%s seconds\" % (time.time() - start_time))\n"
   ]
  },
  {
   "cell_type": "code",
   "execution_count": 30,
   "metadata": {},
   "outputs": [
    {
     "name": "stdout",
     "output_type": "stream",
     "text": [
      "3000\n"
     ]
    },
    {
     "data": {
      "text/html": [
       "<div>\n",
       "<style scoped>\n",
       "    .dataframe tbody tr th:only-of-type {\n",
       "        vertical-align: middle;\n",
       "    }\n",
       "\n",
       "    .dataframe tbody tr th {\n",
       "        vertical-align: top;\n",
       "    }\n",
       "\n",
       "    .dataframe thead th {\n",
       "        text-align: right;\n",
       "    }\n",
       "</style>\n",
       "<table border=\"1\" class=\"dataframe\">\n",
       "  <thead>\n",
       "    <tr style=\"text-align: right;\">\n",
       "      <th></th>\n",
       "      <th>libelle2</th>\n",
       "      <th>CHUTES</th>\n",
       "      <th>prediction</th>\n",
       "    </tr>\n",
       "  </thead>\n",
       "  <tbody>\n",
       "    <tr>\n",
       "      <th>0</th>\n",
       "      <td>BILAN SANGUIN À JEUN DEMAIN -&gt; PANCARTE SUR LA...</td>\n",
       "      <td>False</td>\n",
       "      <td>RIEN</td>\n",
       "    </tr>\n",
       "    <tr>\n",
       "      <th>1</th>\n",
       "      <td>DOUCHÉ A 3 REPRISE</td>\n",
       "      <td>False</td>\n",
       "      <td>RIEN</td>\n",
       "    </tr>\n",
       "    <tr>\n",
       "      <th>2</th>\n",
       "      <td>CE SOIR PAS DE VOMISSEMENT, NI DE NAUSÉES, A B...</td>\n",
       "      <td>False</td>\n",
       "      <td>RIEN</td>\n",
       "    </tr>\n",
       "    <tr>\n",
       "      <th>3</th>\n",
       "      <td>NOUS LUI AVONS DONNÉ À BOIRE, IDE PREVENUE</td>\n",
       "      <td>False</td>\n",
       "      <td>RIEN</td>\n",
       "    </tr>\n",
       "    <tr>\n",
       "      <th>4</th>\n",
       "      <td>TA 147/74</td>\n",
       "      <td>False</td>\n",
       "      <td>RIEN</td>\n",
       "    </tr>\n",
       "  </tbody>\n",
       "</table>\n",
       "</div>"
      ],
      "text/plain": [
       "                                            libelle2  CHUTES prediction\n",
       "0  BILAN SANGUIN À JEUN DEMAIN -> PANCARTE SUR LA...   False       RIEN\n",
       "1                                 DOUCHÉ A 3 REPRISE   False       RIEN\n",
       "2  CE SOIR PAS DE VOMISSEMENT, NI DE NAUSÉES, A B...   False       RIEN\n",
       "3         NOUS LUI AVONS DONNÉ À BOIRE, IDE PREVENUE   False       RIEN\n",
       "4                                          TA 147/74   False       RIEN"
      ]
     },
     "execution_count": 30,
     "metadata": {},
     "output_type": "execute_result"
    }
   ],
   "source": [
    "df_predict = pd.DataFrame(tab_predict, columns =['libelle2', 'CHUTES', 'prediction']) \n",
    "print(len(df_predict))\n",
    "df_predict.head()"
   ]
  },
  {
   "cell_type": "code",
   "execution_count": 31,
   "metadata": {},
   "outputs": [
    {
     "data": {
      "text/plain": [
       "prediction\n",
       "CHUTE    1037\n",
       "RIEN     1963\n",
       "Name: libelle2, dtype: int64"
      ]
     },
     "metadata": {},
     "output_type": "display_data"
    },
    {
     "data": {
      "text/plain": [
       "CHUTES\n",
       "False    2888\n",
       "True      112\n",
       "Name: libelle2, dtype: int64"
      ]
     },
     "metadata": {},
     "output_type": "display_data"
    }
   ],
   "source": [
    "display(df_predict.groupby(['prediction'])['libelle2'].count())\n",
    "display(df_predict.groupby(['CHUTES'])['libelle2'].count())\n"
   ]
  },
  {
   "cell_type": "code",
   "execution_count": 394,
   "metadata": {},
   "outputs": [],
   "source": [
    "df_predict.to_csv('data/test/data-tester-GRIPPE_IRA.csv', sep=';', encoding='utf-8')"
   ]
  },
  {
   "cell_type": "code",
   "execution_count": 380,
   "metadata": {},
   "outputs": [
    {
     "data": {
      "text/plain": [
       "(1000, 60)"
      ]
     },
     "execution_count": 380,
     "metadata": {},
     "output_type": "execute_result"
    }
   ],
   "source": [
    "len(df_test), len(df_predict) "
   ]
  },
  {
   "cell_type": "code",
   "execution_count": 381,
   "metadata": {},
   "outputs": [
    {
     "name": "stdout",
     "output_type": "stream",
     "text": [
      "CHUTES :  CHUTES\n",
      "False    20\n",
      "True     34\n",
      "dtype: int64\n",
      "prediction :  prediction\n",
      "CHUTES    53\n",
      "RIEN       1\n",
      "dtype: int64\n"
     ]
    }
   ],
   "source": [
    "output = df_predict.drop_duplicates()\n",
    "print('CHUTES : ', output.groupby('CHUTES').size())\n",
    "print('prediction : ', output.groupby('prediction').size())"
   ]
  },
  {
   "cell_type": "code",
   "execution_count": 153,
   "metadata": {},
   "outputs": [],
   "source": [
    "from sklearn.dummy import DummyClassifier\n",
    "from sklearn.linear_model import SGDClassifier\n",
    "from sklearn.naive_bayes import GaussianNB\n",
    "from sklearn.tree import DecisionTreeClassifier\n",
    "from sklearn.ensemble import RandomForestClassifier, AdaBoostClassifier\n",
    "from sklearn.neighbors import KNeighborsClassifier\n",
    "from sklearn.multiclass import OneVsRestClassifier\n",
    "\n",
    "from sklearn.model_selection import train_test_split\n",
    "from sklearn.model_selection import GridSearchCV\n",
    "from sklearn.metrics import accuracy_score, precision_score, recall_score, f1_score, roc_curve, auc, confusion_matrix"
   ]
  },
  {
   "cell_type": "code",
   "execution_count": 154,
   "metadata": {},
   "outputs": [],
   "source": [
    "model_dict = {#'Dummy' : DummyClassifier(random_state=3),\n",
    "              'Stochastic Gradient Descent' : SGDClassifier(random_state=3, loss='log'),\n",
    "              #'Random Forest': RandomForestClassifier(random_state=3),\n",
    "              #'Decsision Tree': DecisionTreeClassifier(random_state=3),\n",
    "              #'AdaBoost': AdaBoostClassifier(random_state=3),\n",
    "              #'Gaussian Naive Bayes': GaussianNB(),\n",
    "              #'K Nearest Neighbor': KNeighborsClassifier()\n",
    "             }"
   ]
  },
  {
   "cell_type": "code",
   "execution_count": 26,
   "metadata": {},
   "outputs": [],
   "source": [
    "X_train, X_test, y_train, y_test = train_test_split(X, \n",
    "                                                    y, \n",
    "                                                    test_size = .3, \n",
    "                                                    shuffle = True, \n",
    "                                                    #stratify = y, \n",
    "                                                    random_state = 42)"
   ]
  },
  {
   "cell_type": "code",
   "execution_count": 162,
   "metadata": {},
   "outputs": [],
   "source": [
    "def model_score_df(model_dict):   \n",
    "    model_name, ac_score_list, p_score_list, r_score_list, f1_score_list = [], [], [], [], []\n",
    "    for k,v in model_dict.items():   \n",
    "        model_name.append(k)\n",
    "        print('lancement de training....')\n",
    "        v.fit(X_train, Y_train)\n",
    "        y_pred = v.predict(X_test)\n",
    "        print(k, accuracy_score(Y_test, y_pred))\n",
    "        ac_score_list.append(accuracy_score(Y_test, y_pred))\n",
    "        p_score_list.append(precision_score(Y_test, y_pred, average='macro'))\n",
    "        r_score_list.append(recall_score(Y_test, y_pred, average='macro'))\n",
    "        f1_score_list.append(f1_score(Y_test, y_pred, average='macro'))\n",
    "        model_comparison_df = pd.DataFrame([model_name, ac_score_list, p_score_list, r_score_list, f1_score_list]).T\n",
    "        model_comparison_df.columns = ['model_name', 'accuracy_score', 'precision_score', 'recall_score', 'f1_score']\n",
    "        model_comparison_df = model_comparison_df.sort_values(by='f1_score', ascending=False)\n",
    "    return model_comparison_df, v\n",
    "\n",
    "\n"
   ]
  },
  {
   "cell_type": "code",
   "execution_count": 163,
   "metadata": {
    "scrolled": false
   },
   "outputs": [
    {
     "name": "stdout",
     "output_type": "stream",
     "text": [
      "lancement de training....\n",
      "Stochastic Gradient Descent 0.9300127713920817\n"
     ]
    }
   ],
   "source": [
    "df_bset_model, model_sklearn = model_score_df(model_dict)"
   ]
  },
  {
   "cell_type": "code",
   "execution_count": 165,
   "metadata": {},
   "outputs": [
    {
     "data": {
      "text/plain": [
       "sklearn.linear_model.stochastic_gradient.SGDClassifier"
      ]
     },
     "execution_count": 165,
     "metadata": {},
     "output_type": "execute_result"
    }
   ],
   "source": [
    "type(model_sklearn)"
   ]
  },
  {
   "cell_type": "code",
   "execution_count": 168,
   "metadata": {},
   "outputs": [
    {
     "name": "stdout",
     "output_type": "stream",
     "text": [
      "39.870185136795044 seconds\n"
     ]
    }
   ],
   "source": [
    "import time\n",
    "\n",
    "labels = ['GRIPPE', 'RIEN']\n",
    "tab_predict = []\n",
    "\n",
    "start_time = time.time()\n",
    "for libelle2, CHUTES in df_test.values.tolist():\n",
    "    transmissions = [preprocess_clean(libelle2)]\n",
    "\n",
    "    seq = tokenizer.texts_to_sequences(transmissions)\n",
    "    padded = pad_sequences(seq, maxlen=MAX_SEQUENCE_LENGTH)\n",
    "    pred = model_sklearn.predict(padded)\n",
    "\n",
    "    #print('pred : ', labels[np.argmax(pred)])\n",
    "    prediction = labels[np.argmax(pred)]\n",
    "    if prediction != 'GRIPPE':\n",
    "        print(prediction)\n",
    "    #if CHUTES == False and prediction == 'GRIPPE' :\n",
    "    tab_predict.append((libelle2, CHUTES, prediction))\n",
    "        \n",
    "print(\"%s seconds\" % (time.time() - start_time))"
   ]
  },
  {
   "cell_type": "code",
   "execution_count": null,
   "metadata": {},
   "outputs": [],
   "source": []
  }
 ],
 "metadata": {
  "kernelspec": {
   "display_name": "Python 3",
   "language": "python",
   "name": "python3"
  },
  "language_info": {
   "codemirror_mode": {
    "name": "ipython",
    "version": 3
   },
   "file_extension": ".py",
   "mimetype": "text/x-python",
   "name": "python",
   "nbconvert_exporter": "python",
   "pygments_lexer": "ipython3",
   "version": "3.7.6"
  }
 },
 "nbformat": 4,
 "nbformat_minor": 2
}
