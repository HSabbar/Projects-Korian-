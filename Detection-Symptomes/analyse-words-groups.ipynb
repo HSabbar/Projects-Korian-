{
 "cells": [
  {
   "cell_type": "code",
   "execution_count": 9,
   "metadata": {},
   "outputs": [],
   "source": [
    "from gensim.models import Word2Vec\n",
    "\n",
    "from sklearn import cluster\n",
    "from sklearn import metrics\n",
    "from sklearn.pipeline import Pipeline\n",
    "from sklearn.model_selection import train_test_split\n",
    "\n",
    "from textblob.classifiers import NaiveBayesClassifier\n",
    "\n",
    "import numpy as np\n",
    "import numpy\n",
    "import re\n",
    "import nltk\n",
    "from nltk.cluster import KMeansClusterer\n",
    "from nltk.corpus import stopwords\n",
    "stop_words = set(stopwords.words('french'))"
   ]
  },
  {
   "cell_type": "code",
   "execution_count": 10,
   "metadata": {},
   "outputs": [],
   "source": [
    "positive = \"accompagnement, apyretrique, apyrétique, RAS, a couché sa femme seul, visite de sa fille, mange en chambre avec sa fille, respiration plus régulière,\\\n",
    "pas de signe de detresse respiratoire, a bien dormi, les amies de mne X ont ramene des slips, belle-fille prévenue, calme ces 3 jours,\\\n",
    "absence d'épisode de selle liquide jusqu'alors ce jour, pas de douleur, se débrouille assez bien pour la toilette,\\\n",
    "Famille prévenue : Non, sa fille à apporté des affaires de toilette, a bien manger ce soir, toujours active,\\\n",
    " refuse completement mon aide, dit pouvoir le faire seule, bien, RAS, Famille prévenue: nonMédecin prévenu: nonHospitalisation: non,\\\n",
    "demande de sa dame de compagnie, fille prévenue, moins douloureuse, pas d'essouflements constatés, se sentait bien, Hospitalisation: non,\\\n",
    "a tres bien dormie, semble moins crier, va mieux, discours cohérent, elle va mieux, visite de sa fille, allo sa soeur,\\\n",
    "ATB efficace car apyrethique, présente avec le groupe, a plaisir a les regarder travailler et a échanger, aide au dressage de la table,\\\n",
    "Satisfait, Etat : Actif, a passé une bonne nuit, Très gentille ce soir au coucher, commence à accepter qu'elle a besoin de notre aide,\\\n",
    "va globalement bien et n'est pas particulièrement dépressive, dort bien la nuit, fils averti, va bien pas de crise d angoiss,\\\n",
    "état psy chronique semble stable, semble s'être bien adaptée à la structure, plus de plaie, n a plus mal , Algoplus = 0/5,\\\n",
    " a le sourire, beaucoup plus apaisée nous souris facilement, PLUS CALME, réussi a doucher, BU faite ce jour , est negative,\\\n",
    "Pas de nouvel incident ce jour.ai informé sa fille, non plaintif non douloureux, Bonne participation: Mme X a passé un tres bon moment ,\\\n",
    " a sourit tout au long de la séance, discution, Ecouté rassuré, part chez son petit fils, très gentil et ça se passe très bien,\\\n",
    " aime participé, nous la rassurons - ça devrait aller, vu sa famille, éveillée, agréable, discute volontiers, diminution de la posologie,\\\n",
    " reactif conscience ok, ide prevenu, sa fracture c'était réduite. Arret de la mise en écharpe, se dit mieux, non douloureuse, etait souriante,\\\n",
    "Son fils lui a offert un poste lecteur CD, informé sa fille, agréable, discute, dort très bien, aucune conséquence, fille au tel,\\\n",
    "appel docteur, confort, a eu des selles ce jour, visite de son neveu, bonne nuit, rentrée à , mieux, s'apaise, enchantée, sourire, \\\n",
    " fille a fait, rassurer, parler, mieux, gouter, carte vitale retrouvée, ses filles, A mieux dormit, mange bien, reconforté, rassuré,\\\n",
    "je viens de repasser la voir elle dort, il accepte, sa fille est informée, sortie, reunion équipe pluridisciplinaire,\\\n",
    "rdv cardiologue, toujours tres active, mieux, evoquer avec la fille, appel du Dr, sa fille nous a ramenée, accompagnée ce jour en salle de restaurant,\\\n",
    "a déjeuné en coimpagnie, fils appelé, pas de plainte, a tout mangé, a reçu ses bas de contention, pas de selle liquide,\\\n",
    "s'est progressivement détendue. à la fin de la séance, elle était bien et alerte\"\n",
    "\n",
    "nagative = \"douleur,  Fatigué, et propos confus, marche difficilement, elle s endort avec ses vetements accepte finalement mon aide mais se rhabille ds la nuit,\\\n",
    "reste fatiguée et douloureuse malgré les ttt, elle a un bleu du coté gauche du hanche, Eresypel, Passive sur le temps des activités,\\\n",
    " même si la conversation est difficile, n'a pas une très bonne image de sa personne, dyspnée encombrement trés endormi,\\\n",
    "a dormi tres tres profondement toute la matinee au moment du repas impossible de la faire lever, il faut le stimulé ++++ afin qu'il puisse participé a la toilette,\\\n",
    "algique 2 ou3 sur EN, a le moral dans les chaussettes, encore au plus mal avec crise de larmes et en me demandant de la tuer,\\\n",
    "ne pas trouver lunettes, retire son bracelet régulièrement,  a la voix prise, fatiguée, confusion persistante, agitation +++ difficultés d'élocution,\\\n",
    "trouvé madame X en larmes, mme très enervée et crie, trés désagréable, elle me crie dessus en me disant; que je suis une sauvage,\\\n",
    "se met à pleurer et commence à angoisser. Nous dis qu'elle n'arrivera pas à dormir sans son cachet, a fait une crise convulsive,\\\n",
    "etat douloureux, etat anxiaux, Asthénique, vois enrouée, GDS à 2/4Humeur triste. Souvent dans le noir dans sa chambre,\\\n",
    "nez coule toujours, resistant au moment de la douche, très endormi pendant les changes, pas encore de selles, Diarrhées persistantes malgré fin du traitement antibiotique,\\\n",
    "très réveillée et perturbée, à des hallucinations, se plaint de violente douleur a sa jambe droite ainsi qu'a son genou droit,\\\n",
    "SAD  arraché au pied de son lit, a aussi arraché sa protection, a frappée mr X sur le bras car elle n'était pas contente qu'il se lève,\\\n",
    "Se plaind toujours de céphalées, suite à son AEG, as mall a ses genoux, a vomi, particulièrement en colère contre les autres résidents,\\\n",
    " Mr Y J'lemmerde et le personnel. Au cours du repas elle a jeté sa canne dans le petit salon, a un bleu sur le haut du front,\\\n",
    "risque de tomber, a uriné+++, lit souillé d'urine protection saturée, Bien enrhumée +++, souffre d'un cor au pied et demande un panst,\\\n",
    "agité +++ ce soir au change à crié, opposant++, a perdu son alliance, lance les objets. Son comportement devient difficile à gerer,\\\n",
    "de nouveau nauséeuse, se met à crier, tres endormi, petite plaie, les IDE sur place ont trouvé Y par terre, Oeil droit irrité (rouge),\\\n",
    "selles dures +++, a le nez qui coule et la voix cassé, pas sorti de ca chambre de la journeé, trés rouge au niveau des parties,\\\n",
    "tres fatiguer se matin, elle c'est endormi dvnt son ptit dejeuner, avait des vertiges ne se sentait pas bien est resté au lit,\\\n",
    "petite perte de sang vaginale, pas dormis, lit trempé +++ à deux reprises, a peu dormi, Tres angoisee, diahrée importante,\\\n",
    "se plaint de ne pouvoir aller à la selle, dit ne pas aimé celui qu on lui a mit,installé sur un fauteuil sans coussin anti escarre,\\\n",
    "bronchite, petit vomissement, refuse de se coucher, pas contente s'est mise à me parler méchament, parole bléssante,\\\n",
    "nombreues érosoins et rougeurs aux bras, dos, fesses et jambes. N'a rien mangé ce soir, Elle a crié toute la nuit ,perturbée+++,\\\n",
    "a rien dormi cette nuit enleve sa pull-ups est urine partout, très récalcitrante, dit qu'il est inadmissible d'être changer en pleine nuit!\\\n",
    "désorienté, Dermabrasion suite à tic d'arrachage pulpe annulaire gauche, pulpe majeur gauche, pas satisfaite de la réponse,\\\n",
    " lésion vulvaire, lit mouillé, surveiller+++,  eventuelle contention au fauteuil, a arraché sa sonde urinaire, tjs perturbé,\\\n",
    " suit le personnel  même dans les chambres des résidents aux moments des toilettes, Est très spastique, a peu dormi cette nuit , réveillée à plusieurs reprises,\\\n",
    "dorsalgies, douleurs nocturnes, IM connue, scoliose et tassements vertébraux. Ostéoporose connue non traitée, se plaint ce matin d 'avoir une douloureux a son bras droit,\\\n",
    "retrouvé en suspention dans le sucuridraps a coté du matela, très agitée, déhambule +++, a souillé son lit, Plaie(s), douloureux +++,\\\n",
    "a du mal a marcher, a failli tomber, a une posture penchée vers l'avant, durese 500 cc, rougeur, hématomes, Dit etre nauséeuse,\\\n",
    "39.2°C, Selles urines +++ à arracher sa protection, DCD, plaie fibrineuse, refus du petit dejeuner, dort +++, peu d'amelioration de l'état général,\\\n",
    "mycose, selles liquides, très douloureuse, cris, deshydratée , déambule dans les couloirs,cherche ses parents , aggresive , ne veut pas boire,\\\n",
    " nous prend pour des folles, se plaint de céphalés, dire ne pas se sentir bien, Se plaint beaucoup en disant aie aie aie,\\\n",
    "odeurs d urine+++,  n'a pas manger ce midi, dort  bien  rarement, nous appel  la nuit,  refuse  de boire, refus, toujours en insuffisance cardiaque,\\\n",
    "a vomi, Hémoglobine très basse, asthénie, J3 sans selle, non collaboration, bouscule le chariot d'hydratation, insultes, menaces de nous frapper, s'énerve encore, \\\n",
    " trés peu dormie, très grosse fatigue, malaise, encombrement bronchique,  toussant, plainte, pace maker, fatiguée, entorse,\\\n",
    "ne faut plus insiter, peu dormi, essayons de la calmer, très encombré, difficultés à avaler, oèdemes, rouge et chaud dlr,\\\n",
    "pas de selles, trop fatiguée, trés fatiguée, peniblement, trés ballonnée ce jour, couché dans son fauteuil, ne dormait pas,\\\n",
    "Comportement inhabitue, yeux fermer, évite de les enlever,  baisser la nuit, refusé, mal dormi, crie beaucoup, urines mal ododrante, selles liquides +++,\\\n",
    "fatigué, perturbé, il crit, deambulait, 4 ème jour sans selles, talonssacrum entammé, pastilles de nécrose aux deux talons, douloureux,\\\n",
    "peur,  se tape la tête dans les barrières de son lit, n'a pas uriné, pas eu de selle, pour uriné ça le brulé comme du feu,\\\n",
    "gaz +++, se plaint d'avoir pleins de médicaments, tres desagréable avec moi, état de fatigue, micose, petit hématome a l arcade coté droit,\\\n",
    "a peu dormi, deux jours sans selles, opposante tape, crache, hyperthermie, thymie très basse, dit se sentir seule et isolée,\\\n",
    "nauséeuse, na pas eu sa douche se jour personnel restrint, Certificat de décès, très endormie ce matin, n'arrive pas à déjeuner,\\\n",
    "tres agressive, se serait frotté la main, ventre gonflé\"\n"
   ]
  },
  {
   "cell_type": "code",
   "execution_count": 11,
   "metadata": {},
   "outputs": [],
   "source": [
    "def remove_stop_words(reviews):\n",
    "    reviews = re.sub(r\"[-'&@¨^.;:!*=\\%?,#<>\\\"()\\[\\]]\",' ', reviews)\n",
    "    reviews = reviews.replace('ttt', 'traitement') \n",
    "    reviews = re.sub(r\"([+]+)\", ' plus ', reviews)\n",
    "    #reviews = re.sub(r\"([+])\", ' ', reviews)\n",
    "    '''\n",
    "    for word in reviews.split() :\n",
    "        if word in stop_words or len(word) < 2:\n",
    "            word = r'\\b' + word + r'\\b'\n",
    "            reviews = re.sub(word, '', reviews)\n",
    "    '''\n",
    "    reviews = re.sub(' +', ' ', reviews)\n",
    "    reviews = re.sub('^\\s+', '', reviews)\n",
    "    return reviews  "
   ]
  },
  {
   "cell_type": "code",
   "execution_count": 113,
   "metadata": {},
   "outputs": [
    {
     "data": {
      "text/plain": [
       "(['Diarrhées persistantes malgré fin du traitement antibiotique',\n",
       "  'lit souillé d urine protection saturée',\n",
       "  'trés rouge au niveau des parties',\n",
       "  'cherche ses parents ',\n",
       "  'Selles urines plus à arracher sa protection',\n",
       "  'hématomes',\n",
       "  'retire son bracelet régulièrement',\n",
       "  'dire ne pas se sentir bien',\n",
       "  'peniblement',\n",
       "  'encore au plus mal avec crise de larmes et en me demandant de la tuer'],\n",
       " [0, 0, 0, 0, 0, 0, 0, 0, 0, 0])"
      ]
     },
     "execution_count": 113,
     "metadata": {},
     "output_type": "execute_result"
    }
   ],
   "source": [
    "# nagative : 0\n",
    "# positive : 1\n",
    "neg_train = [(remove_stop_words(word) , 0) for word in nagative.split(',')]\n",
    "pos_train = [(remove_stop_words(word) , 1)for word in positive.split(',')]\n",
    "init_X = neg_train + pos_train\n",
    "\n",
    "numpy.random.shuffle(init_X)\n",
    "X = [y[0] for y in init_X]\n",
    "Y = [y[1] for y in init_X]\n",
    "X[:10],Y[:10]"
   ]
  },
  {
   "cell_type": "code",
   "execution_count": 104,
   "metadata": {},
   "outputs": [],
   "source": [
    "from sklearn.feature_extraction.text import CountVectorizer\n",
    "from nltk.tokenize import RegexpTokenizer\n",
    "#tokenizer to remove unwanted elements from out data like symbols and numbers\n",
    "token = RegexpTokenizer(r'[a-zA-Z0-9]+')\n",
    "cv = CountVectorizer(lowercase=True,stop_words=stop_words,ngram_range = (1,1),tokenizer = token.tokenize)\n",
    "text_counts = cv.fit_transform(X)"
   ]
  },
  {
   "cell_type": "code",
   "execution_count": 105,
   "metadata": {},
   "outputs": [],
   "source": [
    "from sklearn.model_selection import train_test_split\n",
    "X_train, X_test, y_train, y_test = train_test_split(text_counts, Y, test_size=0.3, random_state=1)\n",
    "\n",
    "#y_train"
   ]
  },
  {
   "cell_type": "markdown",
   "metadata": {},
   "source": [
    "# RandomForest"
   ]
  },
  {
   "cell_type": "code",
   "execution_count": 106,
   "metadata": {},
   "outputs": [
    {
     "name": "stdout",
     "output_type": "stream",
     "text": [
      "0.7870370370370371\n"
     ]
    }
   ],
   "source": [
    "from sklearn.ensemble import RandomForestClassifier \n",
    "\n",
    "classifier=RandomForestClassifier(n_estimators=10)                  \n",
    "classifier.fit(X_train.toarray(), y_train)                            \n",
    "prediction = classifier.predict(X_test.toarray()) \n",
    "print(metrics.accuracy_score(y_test, prediction))"
   ]
  },
  {
   "cell_type": "markdown",
   "metadata": {},
   "source": [
    "# NaiveBayes"
   ]
  },
  {
   "cell_type": "code",
   "execution_count": 109,
   "metadata": {},
   "outputs": [
    {
     "name": "stdout",
     "output_type": "stream",
     "text": [
      "MultinomialNB Accuracy : 0.7962962962962963\n"
     ]
    }
   ],
   "source": [
    "from sklearn.naive_bayes import MultinomialNB\n",
    "\n",
    "clf = MultinomialNB().fit(X_train, y_train)\n",
    "predicted= clf.predict(X_test)\n",
    "print(\"MultinomialNB Accuracy :\",metrics.accuracy_score(y_test, predicted))"
   ]
  },
  {
   "cell_type": "code",
   "execution_count": 110,
   "metadata": {},
   "outputs": [],
   "source": [
    "from sklearn.feature_extraction.text import TfidfVectorizer\n",
    "tf = TfidfVectorizer()\n",
    "text_tf= tf.fit_transform(X)"
   ]
  },
  {
   "cell_type": "code",
   "execution_count": 111,
   "metadata": {},
   "outputs": [],
   "source": [
    "X_train, X_test, y_train, y_test = train_test_split(text_tf, Y, test_size=0.3, random_state=1)\n",
    "#y_train"
   ]
  },
  {
   "cell_type": "code",
   "execution_count": 112,
   "metadata": {},
   "outputs": [
    {
     "name": "stdout",
     "output_type": "stream",
     "text": [
      "MultinomialNB Accuracy: 0.7870370370370371\n"
     ]
    }
   ],
   "source": [
    "from sklearn.naive_bayes import MultinomialNB\n",
    "from sklearn import metrics\n",
    "\n",
    "clf = MultinomialNB().fit(X_train, y_train)\n",
    "predicted= clf.predict(X_test)\n",
    "print(\"MultinomialNB Accuracy:\",metrics.accuracy_score(y_test, predicted))"
   ]
  },
  {
   "cell_type": "markdown",
   "metadata": {},
   "source": [
    "# NaiveBayesClassifier with textblob"
   ]
  },
  {
   "cell_type": "code",
   "execution_count": 14,
   "metadata": {},
   "outputs": [
    {
     "name": "stdout",
     "output_type": "stream",
     "text": [
      "0.7962962962962963\n"
     ]
    }
   ],
   "source": [
    "classifier = NaiveBayesClassifier(x_train)\n",
    "print(classifier.accuracy(x_test))"
   ]
  },
  {
   "cell_type": "code",
   "execution_count": 15,
   "metadata": {},
   "outputs": [
    {
     "data": {
      "text/plain": [
       "'nagative'"
      ]
     },
     "execution_count": 15,
     "metadata": {},
     "output_type": "execute_result"
    }
   ],
   "source": [
    "classifier.classify(('PERTE VAGINALE SANGUINOLANTE'.lower()))"
   ]
  },
  {
   "cell_type": "code",
   "execution_count": null,
   "metadata": {},
   "outputs": [],
   "source": []
  }
 ],
 "metadata": {
  "kernelspec": {
   "display_name": "Python 3",
   "language": "python",
   "name": "python3"
  },
  "language_info": {
   "codemirror_mode": {
    "name": "ipython",
    "version": 3
   },
   "file_extension": ".py",
   "mimetype": "text/x-python",
   "name": "python",
   "nbconvert_exporter": "python",
   "pygments_lexer": "ipython3",
   "version": "3.7.6"
  }
 },
 "nbformat": 4,
 "nbformat_minor": 2
}
