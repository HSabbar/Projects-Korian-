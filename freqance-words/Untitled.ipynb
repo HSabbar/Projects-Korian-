{
 "cells": [
  {
   "cell_type": "code",
   "execution_count": 1,
   "metadata": {},
   "outputs": [],
   "source": [
    "import csv\n",
    "import re\n",
    "from typing import Pattern"
   ]
  },
  {
   "cell_type": "code",
   "execution_count": 89,
   "metadata": {},
   "outputs": [],
   "source": [
    "path = \"data/_57793TransmissionsSurvivors_2014V1.csv\"\n",
    "path_write = \"data/new-_57793TransmissionsSurvivors_2014V1.txt\"\n",
    "\n",
    "PATTERN_SUPP_HTML : Pattern = re.compile(r'<(.*?)>')\n",
    "REPLACE_NO_SPACE : Pattern= re.compile(r\"[.;:'!=\\%?,\\\"()\\[\\]]\")\n",
    "REPLACE_WITH_SPACE : Pattern = re.compile(r\"(<br\\s*/><br\\s*/>)|(\\-)|(\\/)|°\")"
   ]
  },
  {
   "cell_type": "code",
   "execution_count": 183,
   "metadata": {},
   "outputs": [],
   "source": [
    "# nettoyer le texte \n",
    "def preprocess_clean(reviews):\n",
    "    reviews = reviews.lower() # mettre le texte en minuscule\n",
    "    reviews = re.split(r'(\\d+)', reviews)\n",
    "    reviews = ' '.join(reviews)\n",
    "    \n",
    "    reviews = re.sub(r'\\bagrave\\b', 'a', reviews) #replacer agrave par a (!à)\n",
    "    reviews = re.sub(r'\\beacut\\b|\\begrave\\b|\\bpreacute\\b', 'e', reviews)#\n",
    "\n",
    "    sub_html = re.findall(PATTERN_SUPP_HTML, reviews) #supprimer les balise html\n",
    "    for html in sub_html:\n",
    "        if html:\n",
    "            reviews = re.sub(r'\\s+', ' ', reviews)\n",
    "            reviews = re.sub(r\"\\'\", ' ', reviews)\n",
    "            reviews = reviews.replace(html, ' ')\n",
    "            reviews = reviews.replace('< >', ' ')\n",
    "\n",
    "    reviews = REPLACE_NO_SPACE.sub(' ', reviews) #supprimer tout les caracteres [.;:!=\\%?,\\\"()\\[\\]]\n",
    "    reviews = REPLACE_WITH_SPACE.sub(' ', reviews) #supprimer espace entre balise html au cas où y'en a \n",
    "    reviews = reviews.replace('ttt', 'traitement') \n",
    "    reviews = re.sub(r\"([+])\", ' plus ', reviews)\n",
    "    reviews = re.sub(r\"([+])\", ' ', reviews)\n",
    "    reviews = re.sub(r'[0-9]', ' ', reviews)\n",
    "    #reviews = re.sub(r'\\b\\w{1,1}\\b','', reviews)\n",
    "\n",
    "    reviews = re.sub(' +', ' ', reviews)#supprimer tout espace de plus qui peut exister à la fin de traitement\n",
    "    #print(reviews)\n",
    "    return reviews"
   ]
  },
  {
   "cell_type": "code",
   "execution_count": 260,
   "metadata": {},
   "outputs": [],
   "source": [
    "PATTERN_ASH : Pattern = re.compile(r'\\bash\\b|\\bagent de service hôtelier\\b|\\bagent de service hotelier\\b')\n",
    "freq_ash = 0\n",
    "\n",
    "PATTERN_AIDE_SOIGNANT : Pattern = re.compile(r'\\bas\\b|\\bas\\.\\b|\\baide-soignant\\b|\\baide soignant\\b')\n",
    "freq_as = 0\n",
    "\n",
    "PATTERN_IDE : Pattern = re.compile(r'\\bide\\b')\n",
    "freq_ide = 0\n",
    "\n",
    "PATTERN_IDEC : Pattern = re.compile(r'\\bchange\\b')\n",
    "freq_idec = 0\n",
    "\n",
    "# /^((?!\\bmedecin-co\\b).)*$/|/^((?!\\bmedco\\b).)*$/| .*médecin(?=creek).*|\n",
    "PATTERN_MEDECIN : Pattern = re.compile(r'\\bmt\\b|\\bmt\\.\\b|\\bdr\\b|\\bdr\\.\\b|\\b(m(é|e)decin)?(?!-co)\\b|\\bdocteur\\b')\n",
    "freq_medecin = 0"
   ]
  },
  {
   "cell_type": "code",
   "execution_count": 276,
   "metadata": {},
   "outputs": [],
   "source": [
    "PATTERN_GRIPPE : Pattern = re.compile(r'(\\bgri(pp|p)e\\b)')\n",
    "patrn_GRIPPE = re.compile(r'(vaccin(|ation) (anti|contre))')\n",
    "\n",
    "freq_GRIPPE = 0"
   ]
  },
  {
   "cell_type": "code",
   "execution_count": 277,
   "metadata": {},
   "outputs": [],
   "source": [
    "#file_txt = open(path_write, \"a\")"
   ]
  },
  {
   "cell_type": "code",
   "execution_count": 278,
   "metadata": {
    "scrolled": true
   },
   "outputs": [
    {
     "name": "stdout",
     "output_type": "stream",
     "text": [
      "2321 a eu son vaccin de la grippe ce jour a surveiller\n",
      "15767 revu avec mr vitureau refuse toujours le vaccin de la grippe\n",
      "15767 vaccin grippe vaxigrip ser ml fait le à renouveler le n lot l prise en charge commentaire apyrétique bras droit\n",
      "17126 vaccination grippe\n",
      "23277 fille mme padovani contacté pour le formulaire anti grippe message laissé sur le repondeur \n",
      "24104 son medecin traitant a refusé de prescrire un vaccin pour la grippe tout en sachant que nous n arrivions pas à acquérir la prise en charge de la sécurité sociale \n",
      "25109 reclamait un traitement homéopatique pour prevenir de la grippe\n",
      "26371 évertion de la paupiére sup droite avec irritationcat biocidance matin refuse violemment la vaccination grippe\n",
      "27671 vacin grippe fait ce jouradministré en sous cutimmugriplot mx exp t \n",
      "28309 elle a fait une reaction à vaccine de la gripe rougeur plus pruride de la glace mis \n",
      "28383 visite de son medecin elle a une grippe intestinale vu avec irena qui etait encore presente lors du passage de cellui ci elle a passe une bonne nuit mais culpabilise car elle a peur d etre contagieuse\n",
      "34762 vaccin grippe ce jour\n",
      "35372 observations consultationfaites le contenu rodriguez sophie à h réunion up mme g n a pas été vaccinée contre la grippe j ai appelé son fils qui n a pas reçu la prise en charge demander une ordonnance à son mt fils ok pour vaccination plus voir avec son mt ordo pour soins pédicure\n",
      "37380 vaccination grippeje lui ai reproposé le vaccin grippe maintenant qu elle n est plus encombrée mais me dit avoir réfléchit et le refuse définitivement \n",
      "40495 refuse la vaccinatation contre la grippe\n",
      "40556 en raison de son traitement antibiotique en cours il n est pas possible de vacciner mme augier contre la grippe dr parrel désire évaluer l état de santé de la résidante lundi avant de donner son accord\n",
      "44096 vaccin grippe fait ce jour\n",
      "44334 me dit qu il pense avoir la grippe se sent fievreux\n",
      "44639 vaccin grippe fait ce jour \n",
      "46088 le médecin a presrit du seresta en plus la nuit si besoinelle l a aussi vaccinée contre la grippe\n",
      "46185 observations consultationfaites le contenu rouanet yves à h entretien avec mme mondini qui apres explications elle est d accord pour se faire vacciner pour la grippe injection puis semaines apres le pneumo \n",
      "46295 point fait depuis l entrée de mme sa fille doit nous apporter le double de son protocole de avec attestation ss point fait au niveau médical avec le dr vincent sur les examens complémentaires fait et les pathologies prévenu des riques éventuels avc devra avoir une écho hépatique surement début février sa fille se charge du rdv suite à son rdv avec le dr rami vu avec fille par rapport au ressentit de l équipe impression de ne pas avoir la confiance de celle ci plusieurs points autres abordés un pantalon et chemisier rose toujours non marqué non avertit du repas de noêl des familles voir pour installer le même systéme de robinet du côté évier dans sa chambre le fait que sa chambre soit dérangée souvent le fait a une barriére au lit par sécurité la nuit repas demande si a était vaccinée contre la grippe vérification vaccin fait le mais dit être bien reçu par les ide lors de demandes d informations revu avec elle pour les souhaits de prévenir la famille pour elle il faut évaluer l urgence pour une chute non compliqué ne pas appeler mais par exemple pour un avc oui au final pour chutes rdv médicaux programmés consultation urgente prévenir mme julien fille le jour pour une hospitalisation en journée mme julien fille la nuit mr julien fils a vu avec mme breuil être prévenu jour et nuit \n",
      "46535 mail de son fils a envoyer la prise en charge de la grippe de mme informe également que le médecin choisit était le dr larreur mais comme il est en honoraires libres change \n",
      "46602 refuse la vaxination contre la grippe par ecrit ds son dossier medical \n",
      "46762 refuse la vaxination contre la grippe par ecrit ds son dossier \n",
      "47497 vaccin de la grippe fait par sa petite fille \n",
      "47721 allo médecin traitant pour parler de la réaction de madame vernier suite au vaccin elle a déjà eu une réaction de ce genre l année derniere attendre mois entre le vaccin de la grippe et le pneumo son médecin a dit qu il le programmera pour le ou \n",
      "47733  ans entrée cet am acconpagnée de sa fille unique elle vient du domicile elle vivait seule chez elle et a décidé de venir en maison de retraite suite à des chutesatcd hvg mais stabilisée au niveau cardiovasculaire suivi par le dr cloix arthrose cervicale coxarthrose à gcohérente se déplace avec un déambulateur a besoin d aide pour la toilette et l habillagepas de régimeelle doit prendre cuil à soupe de silicium à jeun le matin si douleur lui donner du paracétamol elle en a déjà prisapplication de pommade aluset sur les jambes le matinkiné à la marche prescrite mais c est sa fille qui s en occupeest traité par homéopathie pour la grippe et s est sa fille qui gère\n",
      "47762 n a pas été vaccinée contre la grippe a voir avec le médecin traitant \n",
      "47809 entré ce jour pour un sejour definitif en chambre pour le moment mr fait sa toilette seule à besoin aide pour la douche une fois par semaine s habille seul marche seule mais avec une canne a des troubles de l equilibre important du à ses vertiges pourra demander de l aide pour descendre demande une alese pour la nuit allergie seulement au muguet atcdt cancer prostate hta polynevrite des membres inferieurs et ptg traitement ordo faite par dc usal lui donner son traitement tanganils pour la journée le reste sera geré comme d habitude vaccin pour la grippe à realiser à rapporter sa feuille \n",
      "47938 observations consultation d admissionfaites le contenu hagege isabelle à h vue le déc à son entrée accompagnée de sa fille et son gendreavait déja visité la structureétait consentante pour entrer en ehpaden provenance de son domicilevivait seule en pavillon à pavillons sous bois prés de sa filleveuve depuis a seule fille unique qui habite lyvrygarganmaintien difficile à domicile avec épuisement de sa fille malgré des aménagements de son domicile le port de téléalarmeavait eu à domicile des hallucinations visuelles et auditives a beaucoup d anxiété et un syndrome dépressif et a un risque de chutesuivie par son med traitement dr faure de pavillons sous boismaladie d alzheimer modérée suivie par dr kabirian à montfermeil dernière hdj en aout le tt par aricept avait été arrêté en raison d un bav et institution d un traitement par mianserine avait été mise en évidence la nécessité de l accompagner durant les repas et la surveillance podérale mensuelle et une cs mémoire en aout aime la lecture le jardinage le lien social à favoriser aime participer à toutes les animationspas de gené visuelle avec ses lunettes actuelleshypoaccousie bilatérale non appareillée actuellemnt portait des appareils auditifs il y a ansa été vacciné contre la grippe en nov pas de plainte douloureusepas d incontinence urinaire et fécalea besoin d une aide partielle pour la toilette et l habillage souhaite une chaise de douchemarche avec une canne mais a un risque de chute en avant prévoir séances de kinébon appétit si est en compagnie lui proposer toujours les repas au restaurant imc à lui proposer des compléments alimentaires fois par jour prévoir bilan biol à l entréeporte appareils dentaires compléts haut et basà l ex clinique succint à l entrée à compléter état général correct poids kg taille imc se plaint de vertiges en position deboutmarche à petits pas instable ex neurologique normalta assis pouls ta debout pouls prévoir cs cardiol an attendant modification de prise de sotalol en prises au lieu d une priserevoir si elle ne devrait pas remettre ses appreils auditifs pour permettre le lien socialprévoir bilan orthophonique soutien psychologique si necessaire\n",
      "48043 a de la temperature ce jour a été vu par le dr derule a surement une grippe\n",
      "48043 a j refuse toujours les soins d hygiene est venu manger ce midi en salle reste en chambre ce soir car grippe\n",
      "48279 a été vacciné pour la grippe selon la famille\n"
     ]
    }
   ],
   "source": [
    "with open(path, 'r') as csvfile:\n",
    "    for id_resident, id_etablissement, date_T, descrip in  csv.reader(csvfile, delimiter=';'):\n",
    "        descrip = preprocess_clean(descrip)\n",
    "\n",
    "        _ash = PATTERN_ASH.findall(descrip)\n",
    "        if _ash :\n",
    "            #print(_ash)\n",
    "            freq_ash += len(_ash)\n",
    "\n",
    "        _as = PATTERN_AIDE_SOIGNANT.findall(descrip)\n",
    "        if _as :\n",
    "            #print(_as)\n",
    "            freq_as += len(_as)\n",
    "\n",
    "        _ide = PATTERN_IDE.findall(descrip)\n",
    "        if _ide :\n",
    "            freq_ide += len(_ide)\n",
    "\n",
    "        _idec = PATTERN_IDEC.findall(descrip)\n",
    "        if _idec :\n",
    "            # print(descrip)\n",
    "            freq_idec += len(_idec)\n",
    "\n",
    "        _medecin = PATTERN_MEDECIN.findall(descrip)\n",
    "        # print(_medecin)\n",
    "        for x, y in _medecin:\n",
    "            if len(x) :\n",
    "                # print(x)\n",
    "                freq_medecin += 1\n",
    "        _grippe = PATTERN_GRIPPE.findall(descrip)\n",
    "\n",
    "        \n",
    "        if _grippe :\n",
    "            relo = patrn_GRIPPE.findall(descrip)\n",
    "            if relo:\n",
    "                #relo = print(''.join(relo[0]))\n",
    "                relo = descrip.split(relo[0][0])\n",
    "                #print(relo)  \n",
    "                \n",
    "            if len(relo) < 1 :\n",
    "                print(id_resident, descrip)\n",
    "                freq_GRIPPE += len(_grippe)\n",
    "\n",
    "        #file_txt.write(descrip + '\\n')\n",
    "        # print(descrip)\n",
    "        # break\n",
    "#file_txt.close()"
   ]
  },
  {
   "cell_type": "code",
   "execution_count": 258,
   "metadata": {
    "scrolled": false
   },
   "outputs": [
    {
     "name": "stdout",
     "output_type": "stream",
     "text": [
      "Agent de service hotelier : 45\n",
      "Aide soignant : 589\n",
      "IDE : 3192\n",
      "IDEC : 1184\n",
      "Medecin : 1916\n",
      "Grippe : 34\n"
     ]
    }
   ],
   "source": [
    "print('Agent de service hotelier : ' + str(freq_ash))\n",
    "print('Aide soignant : ' + str(freq_as))\n",
    "print('IDE : ' + str(freq_ide))\n",
    "print('IDEC : ' + str(freq_idec))\n",
    "print('Medecin : ' + str(freq_medecin))\n",
    "print('Grippe : ' + str(freq_GRIPPE))"
   ]
  },
  {
   "cell_type": "code",
   "execution_count": 238,
   "metadata": {},
   "outputs": [
    {
     "name": "stdout",
     "output_type": "stream",
     "text": [
      "programme au objectifs poirier morgane psychomotricienne h se sentir en sécurité face à son incontinence nocturneactions poirier morgane psychomotricienne h a la demande de la résidente ajouter une anaform en plus dans la pull upsressources poirier morgane psychomotricienne h responsable soignants gouvernante idecindicateur nuitsuivi plan de soinévaluation poirier morgane psychomotricienne h selon le souhait de la résidente accordé par l idec et la gouvernante la vaccin contre grippe \n",
      "['programme au objectifs poirier morgane psychomotricienne h se sentir en sécurité face à son incontinence nocturneactions poirier morgane psychomotricienne h a la demande de la résidente ajouter une anaform en plus dans la pull upsressources poirier morgane psychomotricienne h responsable soignants gouvernante idecindicateur nuitsuivi plan de soinévaluation poirier morgane psychomotricienne h selon le souhait de la résidente accordé par l idec et la gouvernante la ', ' grippe ']\n"
     ]
    }
   ],
   "source": [
    "s = \"programme : 05/12/2014 au 05/12/2015objectifs : 05/12/2014, poirier morgane (psychomotricienne)16h46 :\\\n",
    "se sentir en sécurité face à son incontinence nocturneactions : 05/12/2014, poirier morgane (psychomotricienne)\\\n",
    "16h46 :  a la demande de la résidente ajouter une anaform en plus dans la pull-upsressources : 05/12/2014, \\\n",
    "poirier morgane (psychomotricienne)16h46 :  responsable : soignants, gouvernante, idecindicateur : 1/nuitsuivi\\\n",
    ": plan de soinévaluation : 05/12/2014, poirier morgane (psychomotricienne)16h46 :  selon le souhait \\\n",
    "de la résidente, accordé par l'idec et la gouvernante. la vaccin contre grippe \"\n",
    "\n",
    "s = preprocess_clean(s)\n",
    "print(s)\n",
    "\n",
    "\n",
    "    "
   ]
  },
  {
   "cell_type": "code",
   "execution_count": null,
   "metadata": {},
   "outputs": [],
   "source": []
  }
 ],
 "metadata": {
  "kernelspec": {
   "display_name": "Python 3",
   "language": "python",
   "name": "python3"
  },
  "language_info": {
   "codemirror_mode": {
    "name": "ipython",
    "version": 3
   },
   "file_extension": ".py",
   "mimetype": "text/x-python",
   "name": "python",
   "nbconvert_exporter": "python",
   "pygments_lexer": "ipython3",
   "version": "3.7.6"
  }
 },
 "nbformat": 4,
 "nbformat_minor": 2
}
