{
 "cells": [
  {
   "cell_type": "code",
   "execution_count": 1,
   "metadata": {},
   "outputs": [],
   "source": [
    "import pandas as pd \n",
    "import numpy as np\n",
    "import nltk\n",
    "import csv\n",
    "import re\n"
   ]
  },
  {
   "cell_type": "code",
   "execution_count": 2,
   "metadata": {},
   "outputs": [],
   "source": [
    "path_data = \"Annuaire établissements FEVRIER 2020_1.xlsx\""
   ]
  },
  {
   "cell_type": "code",
   "execution_count": 153,
   "metadata": {},
   "outputs": [
    {
     "name": "stderr",
     "output_type": "stream",
     "text": [
      "/usr/local/lib/python3.7/site-packages/pandas/util/_decorators.py:188: FutureWarning: The `sheetname` keyword is deprecated, use `sheet_name` instead\n",
      "  return func(*args, **kwargs)\n"
     ]
    },
    {
     "name": "stdout",
     "output_type": "stream",
     "text": [
      "384\n"
     ]
    },
    {
     "data": {
      "text/html": [
       "<div>\n",
       "<style scoped>\n",
       "    .dataframe tbody tr th:only-of-type {\n",
       "        vertical-align: middle;\n",
       "    }\n",
       "\n",
       "    .dataframe tbody tr th {\n",
       "        vertical-align: top;\n",
       "    }\n",
       "\n",
       "    .dataframe thead th {\n",
       "        text-align: right;\n",
       "    }\n",
       "</style>\n",
       "<table border=\"1\" class=\"dataframe\">\n",
       "  <thead>\n",
       "    <tr style=\"text-align: right;\">\n",
       "      <th></th>\n",
       "      <th>FACILITY_NAME</th>\n",
       "      <th>FACILITY_CITY</th>\n",
       "      <th>FACILITY_LATITUDE</th>\n",
       "      <th>FACILITY_LONGITUDE</th>\n",
       "    </tr>\n",
       "  </thead>\n",
       "  <tbody>\n",
       "    <tr>\n",
       "      <th>0</th>\n",
       "      <td>Korian L'Isle Verte</td>\n",
       "      <td>GRENOBLE</td>\n",
       "      <td>45.198037</td>\n",
       "      <td>5.734430</td>\n",
       "    </tr>\n",
       "    <tr>\n",
       "      <th>1</th>\n",
       "      <td>Korian Saison Dorée</td>\n",
       "      <td>LYON</td>\n",
       "      <td>45.735914</td>\n",
       "      <td>4.865291</td>\n",
       "    </tr>\n",
       "    <tr>\n",
       "      <th>2</th>\n",
       "      <td>Korian Le Nymphéa SSIAD</td>\n",
       "      <td>CHAMBERY</td>\n",
       "      <td>45.563838</td>\n",
       "      <td>5.929778</td>\n",
       "    </tr>\n",
       "    <tr>\n",
       "      <th>3</th>\n",
       "      <td>Korian La Fontanière</td>\n",
       "      <td>FONTAINES SAINT MARTIN</td>\n",
       "      <td>45.843687</td>\n",
       "      <td>4.855076</td>\n",
       "    </tr>\n",
       "    <tr>\n",
       "      <th>4</th>\n",
       "      <td>Korian Les Annabelles</td>\n",
       "      <td>LYON</td>\n",
       "      <td>45.751778</td>\n",
       "      <td>4.856833</td>\n",
       "    </tr>\n",
       "  </tbody>\n",
       "</table>\n",
       "</div>"
      ],
      "text/plain": [
       "             FACILITY_NAME           FACILITY_CITY  FACILITY_LATITUDE  \\\n",
       "0      Korian L'Isle Verte                GRENOBLE          45.198037   \n",
       "1      Korian Saison Dorée                    LYON          45.735914   \n",
       "2  Korian Le Nymphéa SSIAD                CHAMBERY          45.563838   \n",
       "3     Korian La Fontanière  FONTAINES SAINT MARTIN          45.843687   \n",
       "4    Korian Les Annabelles                    LYON          45.751778   \n",
       "\n",
       "   FACILITY_LONGITUDE  \n",
       "0            5.734430  \n",
       "1            4.865291  \n",
       "2            5.929778  \n",
       "3            4.855076  \n",
       "4            4.856833  "
      ]
     },
     "execution_count": 153,
     "metadata": {},
     "output_type": "execute_result"
    }
   ],
   "source": [
    "df = pd.read_excel(path_data, sheetname='Liste_KIWI_Normalisée_Luc')\n",
    "df = df[['FACILITY_NAME', 'FACILITY_CITY', 'FACILITY_LATITUDE', 'FACILITY_LONGITUDE']]\n",
    "print(len(df))\n",
    "df.head()"
   ]
  },
  {
   "cell_type": "code",
   "execution_count": null,
   "metadata": {},
   "outputs": [],
   "source": [
    "#-- 1 suspect à 545 KORIAN LES FAUVETTES               1 Ain\n",
    "#-- 1 suspect à 1135           KORIAN SORGENTINO   6 Alpes-Maritimes\n",
    "#-- 1 cas à 1369   KORIAN PASTORIA          10 Aube\n",
    "#-- 1 suspect à 709             KORIAN L'ESCALE DU BAOU        13 Bouches-du-Rhône\n",
    "#-- 1 suspect à 739             KORIAN LA RIMANDIERE              13 Bouches-du-Rhône\n",
    "#-- 2 suspects à 828           KORIAN VAL PRE              13 Bouches-du-Rhône\n",
    "#-- 1 suspect à 2228           KORIAN LES ALCIDES - FOYER DE VIE       13 Bouches-du-Rhône\n",
    "#-- 2 suspects à 1690         KORIAN VILLA BERAT     14 Calvados\n",
    "#-- 1 suspect à 1788           KORIAN LES ISSAMBRES 17 Charente-Maritime\n",
    "#-- 1 grippe à 1628             KORIAN LES TEMPS BLEUS           28 Eure-et-Loir\n",
    "#-- 1 suspects à 438           KORIAN COTEAUX DE LA LEZE    31 Haute-Garonne\n",
    "#-- 2 suspects à 476           KORIAN LA CÔTE PAVEE               31 Haute-Garonne\n",
    "#-- 1 suspect à 470             Le Doyenné de Langon 33 Gironde\n",
    "#-- 2 suspects à 1232         KORIAN VILLA GABRIEL 33 Gironde\n",
    "#-- 2 suspects à 461           KORIAN LES TAMARIS   34 Hérault\n",
    "#-- 2 suspects à 736           KORIAN LES GARDIOLES               34 Hérault\n",
    "#-- 1 suspect à 1648           KORIAN LES MEUNIERES              34 Hérault\n",
    "#-- 1 suspect à 446             KORIAN LES DAMES BLANCHES 37           Indre-et-Loire\n",
    "#-- 1 suspect à 1113           KORIAN CROIX PERIGOURD        37           Indre-et-Loire\n",
    "#-- 1 suspect à 1154           KORIAN LES AMARANTES            37           Indre-et-Loire\n",
    "#-- 1 suspect à 1530           KORIAN JARDIN ATLANTIQUE    44           Loire-Atlantique\n",
    "#-- 1 suspect à 650             KORIAN LE BARON          45 Loiret\n",
    "#-- 1 suspect à 1196           KORIAN LA REINE BLANCHE        45 Loiret\n",
    "#-- 2 suspects à 444           KORIAN LE HAMEAU      47 Lot-et-Garonne\n",
    "#-- 1 suspect à 1448           KORIAN PLACE ROYALE 51 Marne\n",
    "#-- 1 suspect à 448             KORIAN VILLA AMARELLI             57 Moselle\n",
    "#-- 2 suspects à 533           KORIAN GAMBETTA       59 Nord\n",
    "#-- 1 suspect à 608             KORIAN BORDS DE LA MARQUE 59 Nord\n",
    "#-- 1 suspect à 1150           KORIAN CATALOGNE     66 Pyrénées-Orientales\n",
    "#-- 2 suspects à 1108         KORIAN L'AIR DU TEMPS              67 Bas-Rhin\n",
    "#-- 1 suspect à 538             KORIAN GERLAND          69 Rhône\n",
    "#-- 2 suspects à 734           KORIAN CLAUDE BERNARD         69 Rhône\n",
    "#-- 1 suspect à 1217           KORIAN LA FONTANIERE              69 Rhône\n",
    "#-- 1 suspect à 1749           KORIAN VILLA PAPYRI   71 Saône-et-Loire\n",
    "#-- 1 suspect à 654             KORIAN FONTAINE ST MARTIN 73 Savoie\n",
    "#-- 1 suspect à 655             KORIAN LES MYRTILLES 74 Haute-Savoie\n",
    "#-- 1 suspect à 768             KORIAN PORTE OCEANE               76 Seine-Maritime\n",
    "#-- 3 suspects à 1068         KORIAN VILLA SAINT DO              76 Seine-Maritime\n",
    "#-- 1 suspect à 1111           KORIAN HAUTS DE L'ABBAYE      76 Seine-Maritime\n",
    "#-- 1 suspect à 1529           KORIAN HAMEAU DU ROY           78 Yvelines\n",
    "#-- 1 suspect à 1608           KORIAN VILLA PEGASE  78 Yvelines\n",
    "#-- 1 suspect à 656             KORIAN LA VENISE VERTE            79 Deux-Sèvres\n",
    "#-- 1 suspect à 454             KORIAN LE GATINAIS     91 Essonne\n",
    "#-- 1 suspect à 588             KORIAN TAMIAS              91 Essonne\n",
    "#-- 2 suspects à 1149         KORIAN LES TYBILLES     92 Hauts-de-Seine\n",
    "#-- 1 suspect à 909             KORIAN VILLA VICTORIA              93 Seine-St-Denis\n",
    "#-- 1 suspect à 788             KORIAN JARDIN DE NEPTUNE    94 Val-de-Marne\n",
    "#-- 2 suspects à 1908         KORIAN VILLA ST HILAIRE            94 Val-de-Marne\n",
    "#-- 1 suspect à 1109           KORIAN HAUTS D'ANDILLY          95 Val-D'Oise"
   ]
  },
  {
   "cell_type": "code",
   "execution_count": 193,
   "metadata": {},
   "outputs": [
    {
     "data": {
      "text/html": [
       "<div>\n",
       "<style scoped>\n",
       "    .dataframe tbody tr th:only-of-type {\n",
       "        vertical-align: middle;\n",
       "    }\n",
       "\n",
       "    .dataframe tbody tr th {\n",
       "        vertical-align: top;\n",
       "    }\n",
       "\n",
       "    .dataframe thead th {\n",
       "        text-align: right;\n",
       "    }\n",
       "</style>\n",
       "<table border=\"1\" class=\"dataframe\">\n",
       "  <thead>\n",
       "    <tr style=\"text-align: right;\">\n",
       "      <th></th>\n",
       "      <th>FACILITY_NAME</th>\n",
       "      <th>FACILITY_CITY</th>\n",
       "      <th>FACILITY_LATITUDE</th>\n",
       "      <th>FACILITY_LONGITUDE</th>\n",
       "    </tr>\n",
       "  </thead>\n",
       "  <tbody>\n",
       "    <tr>\n",
       "      <th>91</th>\n",
       "      <td>korian hauts d andilly</td>\n",
       "      <td>ANDILLY</td>\n",
       "      <td>49.00381</td>\n",
       "      <td>2.299279</td>\n",
       "    </tr>\n",
       "  </tbody>\n",
       "</table>\n",
       "</div>"
      ],
      "text/plain": [
       "             FACILITY_NAME FACILITY_CITY  FACILITY_LATITUDE  \\\n",
       "91  korian hauts d andilly       ANDILLY           49.00381   \n",
       "\n",
       "    FACILITY_LONGITUDE  \n",
       "91            2.299279  "
      ]
     },
     "execution_count": 193,
     "metadata": {},
     "output_type": "execute_result"
    }
   ],
   "source": [
    "word = \"ANDILLY\".lower()\n",
    "df[\"FACILITY_NAME\"] = df[\"FACILITY_NAME\"].str.lower()\n",
    "df[df[\"FACILITY_NAME\"].str.contains(word)]"
   ]
  },
  {
   "cell_type": "code",
   "execution_count": null,
   "metadata": {},
   "outputs": [],
   "source": []
  }
 ],
 "metadata": {
  "kernelspec": {
   "display_name": "Python 3",
   "language": "python",
   "name": "python3"
  },
  "language_info": {
   "codemirror_mode": {
    "name": "ipython",
    "version": 3
   },
   "file_extension": ".py",
   "mimetype": "text/x-python",
   "name": "python",
   "nbconvert_exporter": "python",
   "pygments_lexer": "ipython3",
   "version": "3.7.6"
  }
 },
 "nbformat": 4,
 "nbformat_minor": 2
}
