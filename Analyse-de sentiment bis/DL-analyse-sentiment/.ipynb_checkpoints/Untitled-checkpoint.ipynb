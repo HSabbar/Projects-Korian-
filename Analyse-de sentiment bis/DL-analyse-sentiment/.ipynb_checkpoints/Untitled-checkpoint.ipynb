{
 "cells": [
  {
   "cell_type": "code",
   "execution_count": 79,
   "metadata": {},
   "outputs": [],
   "source": [
    "import nltk\n",
    "from nltk.tokenize import word_tokenize\n",
    "from nltk.corpus import stopwords\n",
    "from nltk.stem import PorterStemmer, WordNetLemmatizer\n",
    "\n",
    "import pandas as pd \n",
    "import numpy as np\n",
    "import csv\n",
    "import re\n",
    "from re import sub\n",
    "\n",
    "from typing import Pattern\n",
    "import sys\n",
    "from unidecode import unidecode"
   ]
  },
  {
   "cell_type": "code",
   "execution_count": 80,
   "metadata": {},
   "outputs": [],
   "source": [
    "path_init = \"data/_57793TransmissionsSurvivors_2014.csv\"\n",
    "path_new_sentiments = \"data/data_train.csv\"\n",
    "\n",
    "PATTERN_SUPP_HTML : Pattern = re.compile(r'<(.*?)>')\n",
    "REPLACE_NO_SPACE : Pattern= re.compile(r\"[.;:!=\\%?,\\\"()\\[\\]]\")\n",
    "REPLACE_WITH_SPACE : Pattern = re.compile(r\"(<br\\s*/><br\\s*/>)|(\\-)|(\\/)|°\")"
   ]
  },
  {
   "cell_type": "code",
   "execution_count": 87,
   "metadata": {},
   "outputs": [],
   "source": [
    "# nettoyer le texte \n",
    "def preprocess_clean(reviews):\n",
    "    reviews = reviews.lower() # mettre le texte en minuscule\n",
    "\n",
    "    reviews = re.sub(r'\\bagrave\\b', 'a', reviews) #replacer agrave par a (!à)\n",
    "    reviews = re.sub(r'\\beacut\\b|\\begrave\\b|\\bpreacute\\b', 'e', reviews)#\n",
    "\n",
    "    sub_html = re.findall(PATTERN_SUPP_HTML, reviews) #supprimer les balise html\n",
    "    for html in sub_html:\n",
    "        if html:\n",
    "            reviews = re.sub(r'\\s+', ' ', reviews)\n",
    "            reviews = re.sub(r\"\\'\", ' ', reviews)\n",
    "            reviews = reviews.replace(html, ' ')\n",
    "            reviews = reviews.replace('< >', ' ')\n",
    "\n",
    "    reviews = REPLACE_NO_SPACE.sub(' ', reviews) #supprimer tout les caracteres [.;:!=\\%?,\\\"()\\[\\]]\n",
    "    reviews = REPLACE_WITH_SPACE.sub(' ', reviews) #supprimer espace entre balise html au cas où y'en a \n",
    "    reviews = reviews.replace('ttt', 'traitement') \n",
    "    reviews = re.sub(r\"([+])\", ' plus ', reviews)\n",
    "    reviews = re.sub(r\"([+])\", ' ', reviews)\n",
    "    #reviews = re.sub(r'[0-9]', ' ', reviews)\n",
    "    \n",
    "    #séparer les chiffres des lettres 1923example1212 = 1923 example1212\n",
    "    reviews = re.sub(r'([^0-9])(\\d{1,2})', r'\\1 \\2', reviews)\n",
    "    #séparer les chiffres des lettres 1923example1212 = 1923example 1212 résultat final 1923 example 1212 \n",
    "    reviews = re.sub(r'(\\d{1,2})([^0-9])', r'\\1 \\2', reviews)\n",
    "    #reviews = re.sub(r'\\b\\w{1,3}\\b',' ', reviews)\n",
    "\n",
    "    reviews = re.sub(' +', ' ', reviews)#supprimer tout espace de plus qui peut exister à la fin de traitement\n",
    "    #print(reviews)\n",
    "    return reviews"
   ]
  },
  {
   "cell_type": "code",
   "execution_count": 88,
   "metadata": {},
   "outputs": [],
   "source": [
    "def clean_text_to_word_list(text, remove_polish_letters):\n",
    "    text = remove_polish_letters(text)\n",
    "    text = str(text)\n",
    "    text = text.lower()\n",
    "\n",
    "    # Clean the text\n",
    "    text = sub('(\\d)([a-zA-Z]+)', r'\\1 \\2', text)\n",
    "    text = sub(r\"[^A-Za-z0-9^,!?.\\/'+]\", \" \", text)\n",
    "    text = sub(r\"\\+\", \" plus \", text)\n",
    "    text = sub(r\",\", \" \", text)\n",
    "    text = sub(r\"\\.\", \" \", text)\n",
    "    text = sub(r\"!\", \" ! \", text)\n",
    "    text = sub(r\"\\?\", \" ? \", text)\n",
    "    text = sub(r\"'\", \" \", text)\n",
    "    text = sub(r\":\", \" : \", text)\n",
    "    text = sub(r'([^0-9])(\\d{1,2})', r'\\1 \\2', text)\n",
    "    text = sub(r'[!\"#$%&\\'()*+,-./:;<=>?@[\\\\]^_`{|}~]', \" \", text)\n",
    "    text = sub(r\"\\s{2,}\", \" \", text)\n",
    "    #text = text.split()\n",
    "\n",
    "    return text"
   ]
  },
  {
   "cell_type": "code",
   "execution_count": 89,
   "metadata": {},
   "outputs": [
    {
     "data": {
      "text/html": [
       "<div>\n",
       "<style scoped>\n",
       "    .dataframe tbody tr th:only-of-type {\n",
       "        vertical-align: middle;\n",
       "    }\n",
       "\n",
       "    .dataframe tbody tr th {\n",
       "        vertical-align: top;\n",
       "    }\n",
       "\n",
       "    .dataframe thead th {\n",
       "        text-align: right;\n",
       "    }\n",
       "</style>\n",
       "<table border=\"1\" class=\"dataframe\">\n",
       "  <thead>\n",
       "    <tr style=\"text-align: right;\">\n",
       "      <th></th>\n",
       "      <th>id_resident</th>\n",
       "      <th>id_etablissement</th>\n",
       "      <th>date_T</th>\n",
       "      <th>description</th>\n",
       "      <th>label</th>\n",
       "    </tr>\n",
       "  </thead>\n",
       "  <tbody>\n",
       "    <tr>\n",
       "      <th>0</th>\n",
       "      <td>42973</td>\n",
       "      <td>557</td>\n",
       "      <td>1418663163</td>\n",
       "      <td>Vue ce jour poursuite du suivi, Mme Cautain es...</td>\n",
       "      <td>NaN</td>\n",
       "    </tr>\n",
       "    <tr>\n",
       "      <th>1</th>\n",
       "      <td>25134</td>\n",
       "      <td>739</td>\n",
       "      <td>1416909807</td>\n",
       "      <td>ai posé la question au dr touggani concernant ...</td>\n",
       "      <td>NaN</td>\n",
       "    </tr>\n",
       "    <tr>\n",
       "      <th>2</th>\n",
       "      <td>28144</td>\n",
       "      <td>561</td>\n",
       "      <td>1418664063</td>\n",
       "      <td>tres agrssive en ce moment. surveillance sinon...</td>\n",
       "      <td>NaN</td>\n",
       "    </tr>\n",
       "    <tr>\n",
       "      <th>3</th>\n",
       "      <td>16416</td>\n",
       "      <td>650</td>\n",
       "      <td>1421399533</td>\n",
       "      <td>reeducation de membre superieur gauche et de l...</td>\n",
       "      <td>NaN</td>\n",
       "    </tr>\n",
       "    <tr>\n",
       "      <th>4</th>\n",
       "      <td>10272</td>\n",
       "      <td>670</td>\n",
       "      <td>1418085149</td>\n",
       "      <td>Elle n'arrète pas de m'appeler sur le téléhone...</td>\n",
       "      <td>NaN</td>\n",
       "    </tr>\n",
       "  </tbody>\n",
       "</table>\n",
       "</div>"
      ],
      "text/plain": [
       "   id_resident  id_etablissement      date_T  \\\n",
       "0        42973               557  1418663163   \n",
       "1        25134               739  1416909807   \n",
       "2        28144               561  1418664063   \n",
       "3        16416               650  1421399533   \n",
       "4        10272               670  1418085149   \n",
       "\n",
       "                                         description  label  \n",
       "0  Vue ce jour poursuite du suivi, Mme Cautain es...    NaN  \n",
       "1  ai posé la question au dr touggani concernant ...    NaN  \n",
       "2  tres agrssive en ce moment. surveillance sinon...    NaN  \n",
       "3  reeducation de membre superieur gauche et de l...    NaN  \n",
       "4  Elle n'arrète pas de m'appeler sur le téléhone...    NaN  "
      ]
     },
     "execution_count": 89,
     "metadata": {},
     "output_type": "execute_result"
    }
   ],
   "source": [
    "df = pd.read_csv('../2-data/NETREAD.NETSOINS_TRANSMISSIONS.csv', encoding='utf-8', sep=\";\")\n",
    "df.head()"
   ]
  },
  {
   "cell_type": "code",
   "execution_count": 94,
   "metadata": {},
   "outputs": [
    {
     "ename": "TypeError",
     "evalue": "to_csv() got an unexpected keyword argument 'index_col'",
     "output_type": "error",
     "traceback": [
      "\u001b[0;31m---------------------------------------------------------------------------\u001b[0m",
      "\u001b[0;31mTypeError\u001b[0m                                 Traceback (most recent call last)",
      "\u001b[0;32m<ipython-input-94-7d0d3612b281>\u001b[0m in \u001b[0;36m<module>\u001b[0;34m\u001b[0m\n\u001b[1;32m      7\u001b[0m \u001b[0mdf_2\u001b[0m \u001b[0;34m=\u001b[0m \u001b[0mdf_2\u001b[0m\u001b[0;34m.\u001b[0m\u001b[0msample\u001b[0m\u001b[0;34m(\u001b[0m\u001b[0mfrac\u001b[0m\u001b[0;34m=\u001b[0m\u001b[0;36m1\u001b[0m\u001b[0;34m)\u001b[0m\u001b[0;34m.\u001b[0m\u001b[0mreset_index\u001b[0m\u001b[0;34m(\u001b[0m\u001b[0mdrop\u001b[0m\u001b[0;34m=\u001b[0m\u001b[0;32mTrue\u001b[0m\u001b[0;34m)\u001b[0m\u001b[0;34m\u001b[0m\u001b[0;34m\u001b[0m\u001b[0m\n\u001b[1;32m      8\u001b[0m \u001b[0mdf_2\u001b[0m\u001b[0;34m.\u001b[0m\u001b[0mhead\u001b[0m\u001b[0;34m(\u001b[0m\u001b[0;36m20\u001b[0m\u001b[0;34m)\u001b[0m\u001b[0;34m\u001b[0m\u001b[0;34m\u001b[0m\u001b[0m\n\u001b[0;32m----> 9\u001b[0;31m \u001b[0mdf_2\u001b[0m\u001b[0;34m.\u001b[0m\u001b[0mto_csv\u001b[0m\u001b[0;34m(\u001b[0m\u001b[0;34m'data-clean.csv'\u001b[0m\u001b[0;34m,\u001b[0m \u001b[0msep\u001b[0m\u001b[0;34m=\u001b[0m\u001b[0;34m';'\u001b[0m\u001b[0;34m,\u001b[0m \u001b[0mencoding\u001b[0m\u001b[0;34m=\u001b[0m\u001b[0;34m'utf-8'\u001b[0m\u001b[0;34m,\u001b[0m \u001b[0mindex_col\u001b[0m\u001b[0;34m=\u001b[0m\u001b[0;34m'index: 0'\u001b[0m \u001b[0;34m,\u001b[0m \u001b[0mquoting\u001b[0m\u001b[0;34m=\u001b[0m\u001b[0mcsv\u001b[0m\u001b[0;34m.\u001b[0m\u001b[0mQUOTE_NONE\u001b[0m\u001b[0;34m)\u001b[0m \u001b[0;31m#index\u001b[0m\u001b[0;34m\u001b[0m\u001b[0;34m\u001b[0m\u001b[0m\n\u001b[0m",
      "\u001b[0;31mTypeError\u001b[0m: to_csv() got an unexpected keyword argument 'index_col'"
     ]
    }
   ],
   "source": [
    "df = df.head(1000)\n",
    "df_2 = df[['description']] #df_2.columns = ['new']\n",
    "df_2[df_2['description'].str.strip().astype(bool)]\n",
    "#df_2.description = df_2.description.apply(lambda x: clean_text_to_word_list(x, unidecode))\n",
    "df_2.description = df_2.description.apply(lambda x: preprocess_clean(x))\n",
    "df_2 = df_2[~df_2.description.str.contains(r'\\bsuite\\b|\\berreur\\b')]\n",
    "df_2 = df_2.sample(frac=1).reset_index(drop=True)\n",
    "df_2.head(20)\n",
    "\n"
   ]
  },
  {
   "cell_type": "code",
   "execution_count": null,
   "metadata": {},
   "outputs": [],
   "source": [
    "df.columns = ['index', 'description', 'sentiment']\n",
    "df_2.to_csv('data-clean.csv', sep=';', encoding='utf-8', index_label, quoting=csv.QUOTE_NONE) #"
   ]
  },
  {
   "cell_type": "code",
   "execution_count": 75,
   "metadata": {},
   "outputs": [
    {
     "data": {
      "text/html": [
       "<div>\n",
       "<style scoped>\n",
       "    .dataframe tbody tr th:only-of-type {\n",
       "        vertical-align: middle;\n",
       "    }\n",
       "\n",
       "    .dataframe tbody tr th {\n",
       "        vertical-align: top;\n",
       "    }\n",
       "\n",
       "    .dataframe thead th {\n",
       "        text-align: right;\n",
       "    }\n",
       "</style>\n",
       "<table border=\"1\" class=\"dataframe\">\n",
       "  <thead>\n",
       "    <tr style=\"text-align: right;\">\n",
       "      <th></th>\n",
       "      <th>A</th>\n",
       "      <th>C</th>\n",
       "    </tr>\n",
       "  </thead>\n",
       "  <tbody>\n",
       "    <tr>\n",
       "      <th>0</th>\n",
       "      <td>5</td>\n",
       "      <td>foo</td>\n",
       "    </tr>\n",
       "    <tr>\n",
       "      <th>1</th>\n",
       "      <td>3</td>\n",
       "      <td>bar</td>\n",
       "    </tr>\n",
       "    <tr>\n",
       "      <th>2</th>\n",
       "      <td>5</td>\n",
       "      <td>foo suite XYZ bar</td>\n",
       "    </tr>\n",
       "    <tr>\n",
       "      <th>3</th>\n",
       "      <td>6</td>\n",
       "      <td>bat</td>\n",
       "    </tr>\n",
       "  </tbody>\n",
       "</table>\n",
       "</div>"
      ],
      "text/plain": [
       "   A                  C\n",
       "0  5                foo\n",
       "1  3                bar\n",
       "2  5  foo suite XYZ bar\n",
       "3  6                bat"
      ]
     },
     "execution_count": 75,
     "metadata": {},
     "output_type": "execute_result"
    }
   ],
   "source": [
    "d12f = pd.DataFrame(dict(A=[5,3,5,6], C=[\"foo\",\"bar\",\"foo suite XYZ bar\", \"bat\"]))\n",
    "d12f.head()"
   ]
  },
  {
   "cell_type": "code",
   "execution_count": 76,
   "metadata": {},
   "outputs": [
    {
     "data": {
      "text/html": [
       "<div>\n",
       "<style scoped>\n",
       "    .dataframe tbody tr th:only-of-type {\n",
       "        vertical-align: middle;\n",
       "    }\n",
       "\n",
       "    .dataframe tbody tr th {\n",
       "        vertical-align: top;\n",
       "    }\n",
       "\n",
       "    .dataframe thead th {\n",
       "        text-align: right;\n",
       "    }\n",
       "</style>\n",
       "<table border=\"1\" class=\"dataframe\">\n",
       "  <thead>\n",
       "    <tr style=\"text-align: right;\">\n",
       "      <th></th>\n",
       "      <th>A</th>\n",
       "      <th>C</th>\n",
       "    </tr>\n",
       "  </thead>\n",
       "  <tbody>\n",
       "    <tr>\n",
       "      <th>0</th>\n",
       "      <td>5</td>\n",
       "      <td>foo</td>\n",
       "    </tr>\n",
       "    <tr>\n",
       "      <th>1</th>\n",
       "      <td>3</td>\n",
       "      <td>bar</td>\n",
       "    </tr>\n",
       "    <tr>\n",
       "      <th>3</th>\n",
       "      <td>6</td>\n",
       "      <td>bat</td>\n",
       "    </tr>\n",
       "  </tbody>\n",
       "</table>\n",
       "</div>"
      ],
      "text/plain": [
       "   A    C\n",
       "0  5  foo\n",
       "1  3  bar\n",
       "3  6  bat"
      ]
     },
     "execution_count": 76,
     "metadata": {},
     "output_type": "execute_result"
    }
   ],
   "source": [
    "d12f[~d12f.C.str.contains(r\"\\bsuite\\b|\\berreur\\b\")]"
   ]
  },
  {
   "cell_type": "code",
   "execution_count": null,
   "metadata": {},
   "outputs": [],
   "source": []
  }
 ],
 "metadata": {
  "kernelspec": {
   "display_name": "Python 3",
   "language": "python",
   "name": "python3"
  },
  "language_info": {
   "codemirror_mode": {
    "name": "ipython",
    "version": 3
   },
   "file_extension": ".py",
   "mimetype": "text/x-python",
   "name": "python",
   "nbconvert_exporter": "python",
   "pygments_lexer": "ipython3",
   "version": "3.7.6"
  }
 },
 "nbformat": 4,
 "nbformat_minor": 2
}
