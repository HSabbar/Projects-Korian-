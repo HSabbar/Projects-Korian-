{
 "cells": [
  {
   "cell_type": "code",
   "execution_count": 42,
   "metadata": {},
   "outputs": [
    {
     "name": "stderr",
     "output_type": "stream",
     "text": [
      "[nltk_data] Downloading package stopwords to\n",
      "[nltk_data]     /Users/sabbar/nltk_data...\n",
      "[nltk_data]   Package stopwords is already up-to-date!\n"
     ]
    }
   ],
   "source": [
    "import pandas as pd \n",
    "import numpy as np\n",
    "import csv\n",
    "import re\n",
    "import string\n",
    "from re import sub\n",
    "from unidecode import unidecode\n",
    "\n",
    "import nltk\n",
    "nltk.download('stopwords')\n",
    "from nltk.corpus import stopwords \n",
    "vector_dim = 50\n",
    "\n",
    "#non-supvisé ne marche pas assez : je pense parce que la nature de nos données sont différent il n'y a pas de logique. \n"
   ]
  },
  {
   "cell_type": "code",
   "execution_count": 43,
   "metadata": {},
   "outputs": [],
   "source": [
    "def text_to_word_list(text, remove_polish_letters):\n",
    "    text = remove_polish_letters(text)\n",
    "    text = str(text)\n",
    "    text = text.lower()\n",
    "\n",
    "    # Clean le text\n",
    "    text = sub('(\\d)([a-zA-Z]+)', r'\\1 \\2', text)\n",
    "    text = sub(r\"[^A-Za-z0-9^,!?.\\/'+]\", \" \", text)\n",
    "    text = sub(r\"\\+\", \" plus \", text)\n",
    "    text = sub(r\",\", \" \", text)\n",
    "    text = sub(r\"\\.\", \" \", text)\n",
    "    text = sub(r\"!\", \" ! \", text)\n",
    "    text = sub(r\"\\?\", \" ? \", text)\n",
    "    text = sub(r\"'\", \" \", text)\n",
    "    text = sub(r\":\", \" : \", text)\n",
    "    text = sub(r'[!\"#$%&\\'()*+,-./:;<=>?@[\\\\]^_`{|}~]', \" \", text)\n",
    "    text = sub(r\"\\s{2,}\", \" \", text)\n",
    "    #text = text.split()\n",
    "\n",
    "    return text"
   ]
  },
  {
   "cell_type": "code",
   "execution_count": 3,
   "metadata": {},
   "outputs": [],
   "source": [
    "def cosine_similarity(x, y):\n",
    "    \n",
    "    # Compute the dot product between u and v (≈1 line)\n",
    "    dot = np.dot(x,y)\n",
    "    # Compute the L2 norm of u (≈1 line)\n",
    "    norm_x = np.sqrt(np.sum(x**2))\n",
    "    # Compute the L2 norm of v (≈1 line)\n",
    "    norm_y = np.sqrt(np.sum(y**2))\n",
    "    # Compute the cosine similarity defined by formula (1) (≈1 line)\n",
    "    cosine_similarity = dot/(norm_x * norm_y)\n",
    "    \n",
    "    return cosine_similarity"
   ]
  },
  {
   "cell_type": "code",
   "execution_count": 6,
   "metadata": {},
   "outputs": [
    {
     "data": {
      "text/html": [
       "<div>\n",
       "<style scoped>\n",
       "    .dataframe tbody tr th:only-of-type {\n",
       "        vertical-align: middle;\n",
       "    }\n",
       "\n",
       "    .dataframe tbody tr th {\n",
       "        vertical-align: top;\n",
       "    }\n",
       "\n",
       "    .dataframe thead th {\n",
       "        text-align: right;\n",
       "    }\n",
       "</style>\n",
       "<table border=\"1\" class=\"dataframe\">\n",
       "  <thead>\n",
       "    <tr style=\"text-align: right;\">\n",
       "      <th></th>\n",
       "      <th>id_resident</th>\n",
       "      <th>id_etablissement</th>\n",
       "      <th>date_T</th>\n",
       "      <th>libelle2</th>\n",
       "      <th>Unnamed: 4</th>\n",
       "    </tr>\n",
       "  </thead>\n",
       "  <tbody>\n",
       "    <tr>\n",
       "      <th>0</th>\n",
       "      <td>42973</td>\n",
       "      <td>557</td>\n",
       "      <td>1418663163</td>\n",
       "      <td>vue ce jour poursuite du suivi mme cautain est...</td>\n",
       "      <td>NaN</td>\n",
       "    </tr>\n",
       "    <tr>\n",
       "      <th>1</th>\n",
       "      <td>25134</td>\n",
       "      <td>739</td>\n",
       "      <td>1416909807</td>\n",
       "      <td>ai pose la question au dr touggani concernant ...</td>\n",
       "      <td>NaN</td>\n",
       "    </tr>\n",
       "    <tr>\n",
       "      <th>2</th>\n",
       "      <td>28144</td>\n",
       "      <td>561</td>\n",
       "      <td>1418664063</td>\n",
       "      <td>tres agrssive en ce moment surveillance sinon ...</td>\n",
       "      <td>NaN</td>\n",
       "    </tr>\n",
       "    <tr>\n",
       "      <th>3</th>\n",
       "      <td>16416</td>\n",
       "      <td>650</td>\n",
       "      <td>1421399533</td>\n",
       "      <td>reeducation de membre superieur gauche et de l...</td>\n",
       "      <td>NaN</td>\n",
       "    </tr>\n",
       "    <tr>\n",
       "      <th>4</th>\n",
       "      <td>10272</td>\n",
       "      <td>670</td>\n",
       "      <td>1418085149</td>\n",
       "      <td>elle n arrete pas de m appeler sur le telehone...</td>\n",
       "      <td>NaN</td>\n",
       "    </tr>\n",
       "    <tr>\n",
       "      <th>5</th>\n",
       "      <td>32249</td>\n",
       "      <td>754</td>\n",
       "      <td>1420373845</td>\n",
       "      <td>suite</td>\n",
       "      <td>NaN</td>\n",
       "    </tr>\n",
       "    <tr>\n",
       "      <th>6</th>\n",
       "      <td>17265</td>\n",
       "      <td>544</td>\n",
       "      <td>1419890663</td>\n",
       "      <td>soin collation nuit refus</td>\n",
       "      <td>NaN</td>\n",
       "    </tr>\n",
       "    <tr>\n",
       "      <th>7</th>\n",
       "      <td>2130</td>\n",
       "      <td>432</td>\n",
       "      <td>1419916286</td>\n",
       "      <td>fait surveillance sat 88 de sat 87 de puls et3...</td>\n",
       "      <td>NaN</td>\n",
       "    </tr>\n",
       "    <tr>\n",
       "      <th>8</th>\n",
       "      <td>653</td>\n",
       "      <td>368</td>\n",
       "      <td>1418134120</td>\n",
       "      <td>d jambe gauche oedematiee rouge a sa base avec...</td>\n",
       "      <td>NaN</td>\n",
       "    </tr>\n",
       "    <tr>\n",
       "      <th>9</th>\n",
       "      <td>23750</td>\n",
       "      <td>664</td>\n",
       "      <td>1421252017</td>\n",
       "      <td>me v a eu des selles liquides ce matin en gran...</td>\n",
       "      <td>NaN</td>\n",
       "    </tr>\n",
       "    <tr>\n",
       "      <th>10</th>\n",
       "      <td>44382</td>\n",
       "      <td>569</td>\n",
       "      <td>1422131839</td>\n",
       "      <td>famille prevenue nonmedecin prevenu nonhospita...</td>\n",
       "      <td>NaN</td>\n",
       "    </tr>\n",
       "    <tr>\n",
       "      <th>11</th>\n",
       "      <td>31624</td>\n",
       "      <td>734</td>\n",
       "      <td>1417693447</td>\n",
       "      <td>seance ergotherapie activite specialisee en gr...</td>\n",
       "      <td>NaN</td>\n",
       "    </tr>\n",
       "    <tr>\n",
       "      <th>12</th>\n",
       "      <td>7446</td>\n",
       "      <td>590</td>\n",
       "      <td>1422017473</td>\n",
       "      <td>est restee allitee</td>\n",
       "      <td>NaN</td>\n",
       "    </tr>\n",
       "    <tr>\n",
       "      <th>13</th>\n",
       "      <td>2090</td>\n",
       "      <td>437</td>\n",
       "      <td>1420809014</td>\n",
       "      <td>une bonne alimentation et une bonne hydratatio...</td>\n",
       "      <td>NaN</td>\n",
       "    </tr>\n",
       "    <tr>\n",
       "      <th>14</th>\n",
       "      <td>650</td>\n",
       "      <td>368</td>\n",
       "      <td>1417259433</td>\n",
       "      <td>faire braden surveiller eva ta</td>\n",
       "      <td>NaN</td>\n",
       "    </tr>\n",
       "    <tr>\n",
       "      <th>15</th>\n",
       "      <td>29073</td>\n",
       "      <td>563</td>\n",
       "      <td>1417042947</td>\n",
       "      <td>a eu des selles m</td>\n",
       "      <td>NaN</td>\n",
       "    </tr>\n",
       "    <tr>\n",
       "      <th>16</th>\n",
       "      <td>3644</td>\n",
       "      <td>588</td>\n",
       "      <td>1419182919</td>\n",
       "      <td>famille prevenue nonmedecin prevenu nonhospita...</td>\n",
       "      <td>NaN</td>\n",
       "    </tr>\n",
       "    <tr>\n",
       "      <th>17</th>\n",
       "      <td>48321</td>\n",
       "      <td>670</td>\n",
       "      <td>1423595927</td>\n",
       "      <td>ide prevenue</td>\n",
       "      <td>NaN</td>\n",
       "    </tr>\n",
       "    <tr>\n",
       "      <th>18</th>\n",
       "      <td>37408</td>\n",
       "      <td>538</td>\n",
       "      <td>1421140014</td>\n",
       "      <td>vu avec christine ide qui lui a deja donne un ...</td>\n",
       "      <td>NaN</td>\n",
       "    </tr>\n",
       "    <tr>\n",
       "      <th>19</th>\n",
       "      <td>31105</td>\n",
       "      <td>732</td>\n",
       "      <td>1420225201</td>\n",
       "      <td>rougeur bordee d un cercle evoquant la mycose</td>\n",
       "      <td>NaN</td>\n",
       "    </tr>\n",
       "  </tbody>\n",
       "</table>\n",
       "</div>"
      ],
      "text/plain": [
       "    id_resident  id_etablissement      date_T  \\\n",
       "0         42973               557  1418663163   \n",
       "1         25134               739  1416909807   \n",
       "2         28144               561  1418664063   \n",
       "3         16416               650  1421399533   \n",
       "4         10272               670  1418085149   \n",
       "5         32249               754  1420373845   \n",
       "6         17265               544  1419890663   \n",
       "7          2130               432  1419916286   \n",
       "8           653               368  1418134120   \n",
       "9         23750               664  1421252017   \n",
       "10        44382               569  1422131839   \n",
       "11        31624               734  1417693447   \n",
       "12         7446               590  1422017473   \n",
       "13         2090               437  1420809014   \n",
       "14          650               368  1417259433   \n",
       "15        29073               563  1417042947   \n",
       "16         3644               588  1419182919   \n",
       "17        48321               670  1423595927   \n",
       "18        37408               538  1421140014   \n",
       "19        31105               732  1420225201   \n",
       "\n",
       "                                             libelle2  Unnamed: 4  \n",
       "0   vue ce jour poursuite du suivi mme cautain est...         NaN  \n",
       "1   ai pose la question au dr touggani concernant ...         NaN  \n",
       "2   tres agrssive en ce moment surveillance sinon ...         NaN  \n",
       "3   reeducation de membre superieur gauche et de l...         NaN  \n",
       "4   elle n arrete pas de m appeler sur le telehone...         NaN  \n",
       "5                                               suite         NaN  \n",
       "6                           soin collation nuit refus         NaN  \n",
       "7   fait surveillance sat 88 de sat 87 de puls et3...         NaN  \n",
       "8   d jambe gauche oedematiee rouge a sa base avec...         NaN  \n",
       "9   me v a eu des selles liquides ce matin en gran...         NaN  \n",
       "10  famille prevenue nonmedecin prevenu nonhospita...         NaN  \n",
       "11  seance ergotherapie activite specialisee en gr...         NaN  \n",
       "12                                 est restee allitee         NaN  \n",
       "13  une bonne alimentation et une bonne hydratatio...         NaN  \n",
       "14                     faire braden surveiller eva ta         NaN  \n",
       "15                                  a eu des selles m         NaN  \n",
       "16  famille prevenue nonmedecin prevenu nonhospita...         NaN  \n",
       "17                                       ide prevenue         NaN  \n",
       "18  vu avec christine ide qui lui a deja donne un ...         NaN  \n",
       "19      rougeur bordee d un cercle evoquant la mycose         NaN  "
      ]
     },
     "execution_count": 6,
     "metadata": {},
     "output_type": "execute_result"
    }
   ],
   "source": [
    "df = pd.read_csv('../2-data/NETREAD.NETSOINS_TRANSMISSIONS-Tableau 1.csv', encoding='utf-8', sep=\";\")\n",
    "df.libelle2 = df.libelle2.apply(lambda x: text_to_word_list(x, unidecode))\n",
    "df.head(20)"
   ]
  },
  {
   "cell_type": "code",
   "execution_count": 7,
   "metadata": {},
   "outputs": [
    {
     "data": {
      "text/html": [
       "<div>\n",
       "<style scoped>\n",
       "    .dataframe tbody tr th:only-of-type {\n",
       "        vertical-align: middle;\n",
       "    }\n",
       "\n",
       "    .dataframe tbody tr th {\n",
       "        vertical-align: top;\n",
       "    }\n",
       "\n",
       "    .dataframe thead th {\n",
       "        text-align: right;\n",
       "    }\n",
       "</style>\n",
       "<table border=\"1\" class=\"dataframe\">\n",
       "  <thead>\n",
       "    <tr style=\"text-align: right;\">\n",
       "      <th></th>\n",
       "      <th>libelle2</th>\n",
       "    </tr>\n",
       "  </thead>\n",
       "  <tbody>\n",
       "    <tr>\n",
       "      <th>0</th>\n",
       "      <td>vue ce jour poursuite du suivi mme cautain est...</td>\n",
       "    </tr>\n",
       "    <tr>\n",
       "      <th>1</th>\n",
       "      <td>ai pose la question au dr touggani concernant ...</td>\n",
       "    </tr>\n",
       "    <tr>\n",
       "      <th>2</th>\n",
       "      <td>tres agrssive en ce moment surveillance sinon ...</td>\n",
       "    </tr>\n",
       "    <tr>\n",
       "      <th>3</th>\n",
       "      <td>reeducation de membre superieur gauche et de l...</td>\n",
       "    </tr>\n",
       "    <tr>\n",
       "      <th>4</th>\n",
       "      <td>elle n arrete pas de m appeler sur le telehone...</td>\n",
       "    </tr>\n",
       "  </tbody>\n",
       "</table>\n",
       "</div>"
      ],
      "text/plain": [
       "                                            libelle2\n",
       "0  vue ce jour poursuite du suivi mme cautain est...\n",
       "1  ai pose la question au dr touggani concernant ...\n",
       "2  tres agrssive en ce moment surveillance sinon ...\n",
       "3  reeducation de membre superieur gauche et de l...\n",
       "4  elle n arrete pas de m appeler sur le telehone..."
      ]
     },
     "execution_count": 7,
     "metadata": {},
     "output_type": "execute_result"
    }
   ],
   "source": [
    "df = df.head(10000)\n",
    "df_2 = df[['libelle2']]\n",
    "#df_2.columns = ['new']\n",
    "df_2[df_2['libelle2'].str.strip().astype(bool)]\n",
    "df_2.head()\n"
   ]
  },
  {
   "cell_type": "code",
   "execution_count": 8,
   "metadata": {},
   "outputs": [
    {
     "data": {
      "text/plain": [
       "157"
      ]
     },
     "execution_count": 8,
     "metadata": {},
     "output_type": "execute_result"
    }
   ],
   "source": [
    "stopwords_french = stopwords.words('french')\n",
    "len(stopwords_french)"
   ]
  },
  {
   "cell_type": "code",
   "execution_count": 33,
   "metadata": {},
   "outputs": [
    {
     "data": {
      "text/plain": [
       "['vue',\n",
       " 'ce',\n",
       " 'jour',\n",
       " 'poursuite',\n",
       " 'du',\n",
       " 'suivi',\n",
       " 'mme',\n",
       " 'cautain',\n",
       " 'est',\n",
       " 'peu']"
      ]
     },
     "execution_count": 33,
     "metadata": {},
     "output_type": "execute_result"
    }
   ],
   "source": [
    "lst4 = []\n",
    "for i in df_2.index:\n",
    "    lst4 += df_2.libelle2.loc[i].split()\n",
    "\n",
    "lst4[:10]"
   ]
  },
  {
   "cell_type": "code",
   "execution_count": 34,
   "metadata": {},
   "outputs": [],
   "source": [
    "df_2.to_csv('df_2_cleaned_dataset.csv', index=False)"
   ]
  },
  {
   "cell_type": "code",
   "execution_count": 35,
   "metadata": {},
   "outputs": [
    {
     "data": {
      "text/plain": [
       "27664028"
      ]
     },
     "execution_count": 35,
     "metadata": {},
     "output_type": "execute_result"
    }
   ],
   "source": [
    "len(lst4) * len(stopwords_french)"
   ]
  },
  {
   "cell_type": "code",
   "execution_count": 38,
   "metadata": {},
   "outputs": [
    {
     "data": {
      "text/plain": [
       "['vue',\n",
       " 'jour',\n",
       " 'poursuite',\n",
       " 'suivi',\n",
       " 'mme',\n",
       " 'cautain',\n",
       " 'peu',\n",
       " 'delirante',\n",
       " 'jour',\n",
       " 'parle']"
      ]
     },
     "execution_count": 38,
     "metadata": {},
     "output_type": "execute_result"
    }
   ],
   "source": [
    "# Effectuer un prétraitement pour supprimer les signes de ponctuation et les stopwords (mots vides)\n",
    "#[lst4.remove(i) for i in lst4 if i in string.punctuation]\n",
    "[lst4.remove(i) for i in lst4 if i in stopwords_french]\n",
    "lst4[:10]"
   ]
  },
  {
   "cell_type": "code",
   "execution_count": 46,
   "metadata": {},
   "outputs": [],
   "source": [
    "series = pd.Series(lst4)\n",
    "dic = {}"
   ]
  },
  {
   "cell_type": "code",
   "execution_count": 47,
   "metadata": {},
   "outputs": [],
   "source": [
    "for index,word in enumerate(series.unique()):\n",
    "    dic[word] = index "
   ]
  },
  {
   "cell_type": "code",
   "execution_count": 48,
   "metadata": {},
   "outputs": [],
   "source": [
    "# transformer le corpus en index correspondants pour fabriquer un dictionnaire\n",
    "for i,j in enumerate(lst4):\n",
    "    lst4[i] = dic[j]"
   ]
  },
  {
   "cell_type": "code",
   "execution_count": 49,
   "metadata": {},
   "outputs": [
    {
     "name": "stderr",
     "output_type": "stream",
     "text": [
      "Using TensorFlow backend.\n"
     ]
    }
   ],
   "source": [
    "from keras.preprocessing import sequence\n",
    "from keras.layers import Input, Embedding, Dot, Reshape, Dense\n",
    "from keras.models import Model"
   ]
  },
  {
   "cell_type": "code",
   "execution_count": 50,
   "metadata": {},
   "outputs": [],
   "source": [
    "vocab_size = len(dic) + 1"
   ]
  },
  {
   "cell_type": "code",
   "execution_count": 51,
   "metadata": {},
   "outputs": [],
   "source": [
    "sampling_table = sequence.make_sampling_table(vocab_size)"
   ]
  },
  {
   "cell_type": "code",
   "execution_count": 52,
   "metadata": {},
   "outputs": [],
   "source": [
    "tuples, labels = sequence.skipgrams(lst4, vocab_size, window_size=4, sampling_table=sampling_table)"
   ]
  },
  {
   "cell_type": "code",
   "execution_count": 53,
   "metadata": {},
   "outputs": [],
   "source": [
    "target_word, context_word = zip(*tuples)\n",
    "word_target = np.array(target_word, dtype=\"int32\")\n",
    "word_context = np.array(context_word, dtype=\"int32\")"
   ]
  },
  {
   "cell_type": "code",
   "execution_count": 54,
   "metadata": {},
   "outputs": [],
   "source": [
    "embedding_matrix = np.zeros((vocab_size, vector_dim))\n",
    "\n",
    "# correspondant à l'index de chaque ligne de matrice d'intégration, \n",
    "# remplissez les valeurs des intégrations de mots à 50 dimensions\n",
    "\n",
    "for word,index in dic.items():\n",
    "    try:\n",
    "        embedding_matrix[index,:] = word_to_vec_map[word]\n",
    "    except:\n",
    "        continue # si le mot n'est pas présent dans les vecteurs GloVe, cette position d'index est déjà remplie \n",
    "                 # de zéros, comme nous l'avions initialisé."
   ]
  },
  {
   "cell_type": "code",
   "execution_count": 55,
   "metadata": {},
   "outputs": [
    {
     "name": "stdout",
     "output_type": "stream",
     "text": [
      "WARNING:tensorflow:From /usr/local/lib/python3.7/site-packages/tensorflow/python/framework/op_def_library.py:263: colocate_with (from tensorflow.python.framework.ops) is deprecated and will be removed in a future version.\n",
      "Instructions for updating:\n",
      "Colocations handled automatically by placer.\n"
     ]
    }
   ],
   "source": [
    "# CONSTRUIRE LE MODÈLE KERAS \n",
    "input_target = Input((1,))\n",
    "input_context = Input((1,))\n",
    "\n",
    "# créer un Embedding de forme de embedding Keras (vocab_size, vector_dim) et définir l'argument 'trainable' sur 'True'\n",
    "embedding = Embedding(input_dim = vocab_size, output_dim = vector_dim, input_length = 1, name='embedding', trainable = True)\n",
    "\n",
    "# charger des données de pré-entraînés (embeddings) de la 'embedding_matrix' dans la couche embedding \n",
    "embedding.build((None,))\n",
    "embedding.set_weights([embedding_matrix])\n",
    "\n",
    "# Exécuter le contexte et cibler les mots à travers la couche embedding\n",
    "context = embedding(input_context)\n",
    "context = Reshape((vector_dim, 1))(context)\n",
    "\n",
    "target = embedding(input_target)\n",
    "target = Reshape((vector_dim, 1))(target)"
   ]
  },
  {
   "cell_type": "code",
   "execution_count": 56,
   "metadata": {},
   "outputs": [
    {
     "name": "stdout",
     "output_type": "stream",
     "text": [
      "__________________________________________________________________________________________________\n",
      "Layer (type)                    Output Shape         Param #     Connected to                     \n",
      "==================================================================================================\n",
      "input_2 (InputLayer)            (None, 1)            0                                            \n",
      "__________________________________________________________________________________________________\n",
      "input_1 (InputLayer)            (None, 1)            0                                            \n",
      "__________________________________________________________________________________________________\n",
      "embedding (Embedding)           (None, 1, 50)        689650      input_2[0][0]                    \n",
      "                                                                 input_1[0][0]                    \n",
      "__________________________________________________________________________________________________\n",
      "reshape_1 (Reshape)             (None, 50, 1)        0           embedding[0][0]                  \n",
      "__________________________________________________________________________________________________\n",
      "reshape_2 (Reshape)             (None, 50, 1)        0           embedding[1][0]                  \n",
      "__________________________________________________________________________________________________\n",
      "dot_1 (Dot)                     (None, 1, 1)         0           reshape_1[0][0]                  \n",
      "                                                                 reshape_2[0][0]                  \n",
      "__________________________________________________________________________________________________\n",
      "reshape_3 (Reshape)             (None, 1)            0           dot_1[0][0]                      \n",
      "__________________________________________________________________________________________________\n",
      "dense_1 (Dense)                 (None, 1)            2           reshape_3[0][0]                  \n",
      "==================================================================================================\n",
      "Total params: 689,652\n",
      "Trainable params: 689,652\n",
      "Non-trainable params: 0\n",
      "__________________________________________________________________________________________________\n"
     ]
    },
    {
     "name": "stderr",
     "output_type": "stream",
     "text": [
      "/usr/local/lib/python3.7/site-packages/ipykernel_launcher.py:8: UserWarning: Update your `Model` call to the Keras 2 API: `Model(inputs=[<tf.Tenso..., outputs=Tensor(\"de...)`\n",
      "  \n"
     ]
    }
   ],
   "source": [
    "# calculer le produit scalaire du contexte et les mots cibles, pour trouver la similarité \n",
    "\n",
    "dot = Dot(axes = 1)([context, target]) \n",
    "dot = Reshape((1,))(dot)\n",
    "\n",
    "# passer à travers un neurone d'activation «sigmoïde»; ceci est ensuite associé à la valeur de «label» générée à partir du skipgram\n",
    "\n",
    "out = Dense(1, activation = 'sigmoid')(dot)\n",
    "\n",
    "# créer une instance de modèle\n",
    "model = Model(input = [input_context, input_target], output = out)\n",
    "model.compile(loss = 'binary_crossentropy', metrics=['accuracy'], optimizer = 'adam') #, optimizer='rmsprop'\n",
    "model.summary()\n"
   ]
  },
  {
   "cell_type": "code",
   "execution_count": 57,
   "metadata": {},
   "outputs": [
    {
     "name": "stdout",
     "output_type": "stream",
     "text": [
      "WARNING:tensorflow:From /usr/local/lib/python3.7/site-packages/tensorflow/python/ops/math_ops.py:3066: to_int32 (from tensorflow.python.ops.math_ops) is deprecated and will be removed in a future version.\n",
      "Instructions for updating:\n",
      "Use tf.cast instead.\n",
      "Epoch 1/5\n",
      "560544/560544 [==============================] - 24s 42us/step - loss: 0.6932 - acc: 0.5000\n",
      "Epoch 2/5\n",
      "560544/560544 [==============================] - 24s 43us/step - loss: 0.6932 - acc: 0.5006\n",
      "Epoch 3/5\n",
      "560544/560544 [==============================] - 23s 41us/step - loss: 0.6932 - acc: 0.5004\n",
      "Epoch 4/5\n",
      "560544/560544 [==============================] - 23s 41us/step - loss: 0.6932 - acc: 0.5000\n",
      "Epoch 5/5\n",
      "560544/560544 [==============================] - 23s 41us/step - loss: 0.6932 - acc: 0.4995\n"
     ]
    },
    {
     "data": {
      "text/plain": [
       "<keras.callbacks.History at 0x13d71d690>"
      ]
     },
     "execution_count": 57,
     "metadata": {},
     "output_type": "execute_result"
    }
   ],
   "source": [
    "# Lancer le model d'apprentissage  \n",
    "model.fit(x = [word_target, word_context], y = labels, epochs = 5, batch_size =300) #\n"
   ]
  },
  {
   "cell_type": "code",
   "execution_count": 58,
   "metadata": {},
   "outputs": [],
   "source": [
    "word_vecs = model.layers[2].get_weights()[0]"
   ]
  },
  {
   "cell_type": "code",
   "execution_count": 59,
   "metadata": {},
   "outputs": [],
   "source": [
    "df_2 = df_2.dropna()\n",
    "df_2['new1_trained'] = 0\n",
    "lst2 = []\n",
    "for i in df_2.index:\n",
    "    lst = []\n",
    "    words = [j for j in df_2.libelle2.loc[i] if str(j).isalpha()] \n",
    "    #words = [j for j in words if not j in string.punctuation]\n",
    "    words = [j for j in words if not j in stopwords_french]\n",
    "    \n",
    "    for word in words:\n",
    "        try:\n",
    "            lst.append(word_vecs[dic[word]])#nouvelles embeddings accessibles via l'index d'un mot en particulier dans 'dic'\n",
    "        except:\n",
    "            continue\n",
    "    arr = np.array(lst)\n",
    "    arrsum = arr.sum(axis = 0)\n",
    "    if type(arrsum) != np.ndarray:\n",
    "        arrsum = np.array([0] * vector_dim)\n",
    "    else:    \n",
    "        arrsum = arrsum/np.sqrt((arrsum**2).sum())\n",
    "        \n",
    "    lst2.append(arrsum)"
   ]
  },
  {
   "cell_type": "markdown",
   "metadata": {},
   "source": [
    "# Pre-processing - text"
   ]
  },
  {
   "cell_type": "code",
   "execution_count": 61,
   "metadata": {},
   "outputs": [
    {
     "data": {
      "text/plain": [
       "'some accented letters a i or o'"
      ]
     },
     "execution_count": 61,
     "metadata": {},
     "output_type": "execute_result"
    }
   ],
   "source": [
    "import unicodedata\n",
    "def remove_accented_chars(text):\n",
    "    text = unicodedata.normalize('NFKD', text).encode('ascii', 'ignore').decode('utf-8', 'ignore')\n",
    "    return text\n",
    "\n",
    "remove_accented_chars('some accented letters â î or ô')"
   ]
  },
  {
   "cell_type": "code",
   "execution_count": 63,
   "metadata": {},
   "outputs": [
    {
     "data": {
      "text/plain": [
       "'Sme spcil ccrs '"
      ]
     },
     "execution_count": 63,
     "metadata": {},
     "output_type": "execute_result"
    }
   ],
   "source": [
    "def remove_special_characters(text, remove_digits=False):\n",
    "    pattern = r'[^a-zA-z0-9\\s]' if not remove_digits else r'[^a-zA-z\\s]'\n",
    "    text = re.sub(pattern, '', text)\n",
    "    return text\n",
    "\n",
    "remove_special_characters(\"S0me sp3ci@l c#@4@c|3rs *&)@&)@#&\", remove_digits=True)"
   ]
  },
  {
   "cell_type": "code",
   "execution_count": 64,
   "metadata": {},
   "outputs": [
    {
     "name": "stderr",
     "output_type": "stream",
     "text": [
      "[nltk_data] Downloading package averaged_perceptron_tagger to\n",
      "[nltk_data]     /Users/sabbar/nltk_data...\n",
      "[nltk_data]   Package averaged_perceptron_tagger is already up-to-\n",
      "[nltk_data]       date!\n"
     ]
    },
    {
     "data": {
      "text/plain": [
       "True"
      ]
     },
     "execution_count": 64,
     "metadata": {},
     "output_type": "execute_result"
    }
   ],
   "source": [
    "nltk.download('averaged_perceptron_tagger')\n"
   ]
  },
  {
   "cell_type": "markdown",
   "metadata": {},
   "source": [
    "# Regrouper mes mots "
   ]
  },
  {
   "cell_type": "code",
   "execution_count": 66,
   "metadata": {},
   "outputs": [
    {
     "data": {
      "text/html": [
       "<div>\n",
       "<style scoped>\n",
       "    .dataframe tbody tr th:only-of-type {\n",
       "        vertical-align: middle;\n",
       "    }\n",
       "\n",
       "    .dataframe tbody tr th {\n",
       "        vertical-align: top;\n",
       "    }\n",
       "\n",
       "    .dataframe thead th {\n",
       "        text-align: right;\n",
       "    }\n",
       "</style>\n",
       "<table border=\"1\" class=\"dataframe\">\n",
       "  <thead>\n",
       "    <tr style=\"text-align: right;\">\n",
       "      <th></th>\n",
       "      <th>libelle2</th>\n",
       "    </tr>\n",
       "  </thead>\n",
       "  <tbody>\n",
       "    <tr>\n",
       "      <th>0</th>\n",
       "      <td>vue ce jour poursuite du suivi mme cautain est...</td>\n",
       "    </tr>\n",
       "    <tr>\n",
       "      <th>1</th>\n",
       "      <td>ai pose la question au dr touggani concernant ...</td>\n",
       "    </tr>\n",
       "    <tr>\n",
       "      <th>2</th>\n",
       "      <td>tres agrssive en ce moment surveillance sinon ...</td>\n",
       "    </tr>\n",
       "    <tr>\n",
       "      <th>3</th>\n",
       "      <td>reeducation de membre superieur gauche et de l...</td>\n",
       "    </tr>\n",
       "    <tr>\n",
       "      <th>4</th>\n",
       "      <td>elle n arrete pas de m appeler sur le telehone...</td>\n",
       "    </tr>\n",
       "  </tbody>\n",
       "</table>\n",
       "</div>"
      ],
      "text/plain": [
       "                                            libelle2\n",
       "0  vue ce jour poursuite du suivi mme cautain est...\n",
       "1  ai pose la question au dr touggani concernant ...\n",
       "2  tres agrssive en ce moment surveillance sinon ...\n",
       "3  reeducation de membre superieur gauche et de l...\n",
       "4  elle n arrete pas de m appeler sur le telehone..."
      ]
     },
     "execution_count": 66,
     "metadata": {},
     "output_type": "execute_result"
    }
   ],
   "source": [
    "df = pd.read_csv('../2-data/NETREAD.NETSOINS_TRANSMISSIONS-Tableau 1.csv', encoding='utf-8', sep=\";\")\n",
    "df = df.head(2000)\n",
    "df.libelle2 = df.libelle2.apply(lambda x: text_to_word_list(x, unidecode))\n",
    "df_3 = [c for c in df.libelle2 if c.lower()[:4] != 'erreur']\n",
    "df_3 = df[['libelle2']]\n",
    "#df_2.columns = ['new']\n",
    "df_3[df_3['libelle2'].str.strip().astype(bool)]\n",
    "df_3.head()"
   ]
  },
  {
   "cell_type": "code",
   "execution_count": 67,
   "metadata": {},
   "outputs": [],
   "source": [
    "import numpy as np\n",
    "import pandas as pd\n",
    "import nltk\n",
    "import re\n",
    "import os\n",
    "import codecs\n",
    "from sklearn import feature_extraction"
   ]
  },
  {
   "cell_type": "code",
   "execution_count": 69,
   "metadata": {},
   "outputs": [
    {
     "name": "stdout",
     "output_type": "stream",
     "text": [
      "CPU times: user 3 µs, sys: 1 µs, total: 4 µs\n",
      "Wall time: 7.87 µs\n",
      "(2000, 6320)\n"
     ]
    }
   ],
   "source": [
    "from sklearn.feature_extraction.text import TfidfVectorizer\n",
    "# Vectorizer parameters\n",
    "tfidf_vectorizer = TfidfVectorizer(max_df=0.9, max_features=200000,\n",
    "                                 min_df=0.001, use_idf=True, ngram_range=(1,3))\n",
    "\n",
    "%time \n",
    "tfidf_matrix = tfidf_vectorizer.fit_transform(df_3.iloc[0:2000,0]) #fit the vectorizer\n",
    "\n",
    "print(tfidf_matrix.shape)"
   ]
  },
  {
   "cell_type": "code",
   "execution_count": 70,
   "metadata": {},
   "outputs": [],
   "source": [
    "# obtenir les fonctionnalités impliquées\n",
    "terms = tfidf_vectorizer.get_feature_names()"
   ]
  },
  {
   "cell_type": "code",
   "execution_count": 71,
   "metadata": {},
   "outputs": [],
   "source": [
    "from sklearn.metrics.pairwise import cosine_similarity\n",
    "dist = 1-cosine_similarity(tfidf_matrix)"
   ]
  },
  {
   "cell_type": "code",
   "execution_count": 77,
   "metadata": {},
   "outputs": [
    {
     "data": {
      "image/png": "[encoded data removed]",
      "text/plain": [
       "<Figure size 1080x1440 with 1 Axes>"
      ]
     },
     "metadata": {
      "needs_background": "light"
     },
     "output_type": "display_data"
    },
    {
     "data": {
      "text/plain": [
       "<Figure size 432x288 with 0 Axes>"
      ]
     },
     "metadata": {},
     "output_type": "display_data"
    }
   ],
   "source": [
    "# Tracer le dendrogramme \n",
    "from scipy.cluster.hierarchy import ward, dendrogram\n",
    "import matplotlib.pyplot as plt\n",
    "\n",
    "linkage_matrix = ward(dist) #définir la matrice de liaison en utilisant des distances précalculées de regroupement de quartiers\n",
    "\n",
    "fig, ax = plt.subplots(figsize=(15, 20)) # set size\n",
    "ax = dendrogram(linkage_matrix, orientation=\"right\");\n",
    "\n",
    "plt.tick_params(\\\n",
    "    axis= 'x',         \n",
    "    which='both',      \n",
    "    bottom='off',      \n",
    "    top='off',         \n",
    "    labelbottom='off')\n",
    "\n",
    "plt.show() #afficher plot\n",
    "\n",
    "# Enregistrer la figure en format png\n",
    "plt.savefig('ward_clusters.png', dpi=200) #save figure"
   ]
  },
  {
   "cell_type": "code",
   "execution_count": 74,
   "metadata": {},
   "outputs": [],
   "source": [
    "# classification de l'ensemble de données via le clustering \n",
    "from sklearn.cluster import AgglomerativeClustering\n",
    "cluster=AgglomerativeClustering(n_clusters=6,affinity=\"euclidean\",linkage=\"ward\")\n",
    "clust=cluster.fit_predict(tfidf_matrix.toarray())"
   ]
  },
  {
   "cell_type": "code",
   "execution_count": 83,
   "metadata": {},
   "outputs": [
    {
     "name": "stdout",
     "output_type": "stream",
     "text": [
      "CPU times: user 21.7 s, sys: 1.42 s, total: 23.2 s\n",
      "Wall time: 13.7 s\n"
     ]
    }
   ],
   "source": [
    "from sklearn.cluster import KMeans\n",
    "\n",
    "num_clusters = 6\n",
    "\n",
    "km = KMeans(n_clusters=num_clusters)\n",
    "\n",
    "%time km.fit(tfidf_matrix)\n",
    "\n",
    "clust = km.labels_.tolist()"
   ]
  },
  {
   "cell_type": "code",
   "execution_count": 78,
   "metadata": {},
   "outputs": [
    {
     "name": "stdout",
     "output_type": "stream",
     "text": [
      "[5 2 4 0 1 3]\n"
     ]
    },
    {
     "data": {
      "text/plain": [
       "2000"
      ]
     },
     "execution_count": 78,
     "metadata": {},
     "output_type": "execute_result"
    }
   ],
   "source": [
    "clust = pd.DataFrame(clust)\n",
    "print(clust[0].unique())\n",
    "len(clust)"
   ]
  },
  {
   "cell_type": "code",
   "execution_count": 79,
   "metadata": {},
   "outputs": [],
   "source": [
    "c1,c2,c3,c4,c5,c6= [],[],[],[],[],[]\n",
    "for j,i in enumerate(clust):\n",
    "    if(i==0):\n",
    "        c1.append(df_3.iloc[j,0])\n",
    "    elif(i==1):\n",
    "        c2.append(df_3.iloc[j,0])\n",
    "    elif(i==2):\n",
    "        c3.append(df_3.iloc[j,0])\n",
    "    elif(i==3):\n",
    "        c4.append(df_3.iloc[j,0])\n",
    "    elif(i==4):\n",
    "        c5.append(df_3.iloc[j,0])\n",
    "    elif(i==5):\n",
    "        c6.append(df_3.iloc[j,0])"
   ]
  },
  {
   "cell_type": "code",
   "execution_count": 84,
   "metadata": {},
   "outputs": [],
   "source": [
    "#c11 = c1.append(c2).append(c3).append(c4).append(c5).append(c6)\n",
    "c1 = pd.DataFrame(c1, columns=['c1'])\n",
    "c1['c2'] = pd.Series(c2)\n",
    "c1['c3'] = pd.Series(c3)\n",
    "c1['c4'] = pd.Series(c4)\n",
    "c1['c5'] = pd.Series(c5)\n",
    "c1['c6'] = pd.Series(c6)\n",
    "c1.to_csv('groupe-c1.csv', sep=';', encoding='utf-8')"
   ]
  },
  {
   "cell_type": "code",
   "execution_count": null,
   "metadata": {},
   "outputs": [],
   "source": []
  }
 ],
 "metadata": {
  "kernelspec": {
   "display_name": "Python 3",
   "language": "python",
   "name": "python3"
  },
  "language_info": {
   "codemirror_mode": {
    "name": "ipython",
    "version": 3
   },
   "file_extension": ".py",
   "mimetype": "text/x-python",
   "name": "python",
   "nbconvert_exporter": "python",
   "pygments_lexer": "ipython3",
   "version": "3.7.6"
  }
 },
 "nbformat": 4,
 "nbformat_minor": 2
}
